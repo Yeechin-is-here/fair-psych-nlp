{
 "cells": [
  {
   "cell_type": "markdown",
   "metadata": {},
   "source": [
    "## Table for demographic features"
   ]
  },
  {
   "cell_type": "code",
   "execution_count": 17,
   "metadata": {},
   "outputs": [
    {
     "name": "stdout",
     "output_type": "stream",
     "text": [
      "   File  Row   Q1   Q2   Q3  Q4  FQ1  FQ2  FQ3  ComQ1  ...   D6  Dmed_7  \\\n",
      "0     1    1  5.0  5.0  4.0   5  3.0  1.0    3    1.0  ...  1.0    30.0   \n",
      "1     1    2  4.0  4.0  4.0   4  3.0  1.0    3    2.0  ...  1.0    29.0   \n",
      "2     1    3  5.0  5.0  4.0   4  3.0  1.0    3    1.0  ...  1.0    32.0   \n",
      "3     1    4  5.0  5.0  4.0   4  3.0  4.0    3    1.0  ...  1.0    31.0   \n",
      "4     1    5  5.0  5.0  5.0   5  3.0  1.0    3    1.0  ...  1.0    34.0   \n",
      "\n",
      "   Dmed_8 DMed_1  DMed_2  DMed_3  DMed_9  Dmed_10  Dmed_5  Dmed_6  \n",
      "0     152    4.0     1.0     4.0     3.0      5.0     1.0     1.0  \n",
      "1     150    3.0     1.0     8.0     3.0      6.0     1.0     1.0  \n",
      "2     160    1.0     1.0     4.0     6.0      5.0     1.0     1.0  \n",
      "3     168    5.0     1.0    12.0     2.0      5.0     1.0     3.0  \n",
      "4     220    5.0     1.0    12.0     3.0      4.0     7.0    15.0  \n",
      "\n",
      "[5 rows x 123 columns]\n"
     ]
    },
    {
     "name": "stderr",
     "output_type": "stream",
     "text": [
      "C:\\Users\\howar\\AppData\\Local\\Temp\\ipykernel_17400\\4158831368.py:10: DtypeWarning: Columns (115) have mixed types. Specify dtype option on import or set low_memory=False.\n",
      "  data = pd.read_csv(file_path, sep='\\t', encoding='ISO-8859-1')\n"
     ]
    }
   ],
   "source": [
    "import pandas as pd\n",
    "import numpy as np\n",
    "import matplotlib.pyplot as plt\n",
    "\n",
    "\n",
    "# 文件路径\n",
    "file_path = 'Data\\Data_SurveyPlusDemographics.txt'\n",
    "\n",
    "# 读取文件\n",
    "data = pd.read_csv(file_path, sep='\\t', encoding='ISO-8859-1')\n",
    "\n",
    "# 显示数据的前几行\n",
    "print(data.head())"
   ]
  },
  {
   "cell_type": "code",
   "execution_count": 18,
   "metadata": {},
   "outputs": [],
   "source": [
    "demographic_data = data[data.columns[-15:]]"
   ]
  },
  {
   "cell_type": "code",
   "execution_count": 19,
   "metadata": {},
   "outputs": [
    {
     "name": "stdout",
     "output_type": "stream",
     "text": [
      "D1 (Type: float64): 21.0\n",
      "D2 (Type: float64): 2.0\n",
      "D3 (Type: float64): 1.0\n",
      "D4 (Type: float64): 6.0\n",
      "D5 (Type: float64): 1.0\n",
      "D6 (Type: float64): 1.0\n",
      "Dmed_7 (Type: float64): 30.0\n",
      "Dmed_8 (Type: float64): 152.0\n",
      "DMed_1 (Type: float64): 4.0\n",
      "DMed_2 (Type: float64): 1.0\n",
      "DMed_3 (Type: float64): 4.0\n",
      "DMed_9 (Type: float64): 3.0\n",
      "Dmed_10 (Type: float64): 5.0\n",
      "Dmed_5 (Type: float64): 1.0\n",
      "Dmed_6 (Type: float64): 1.0\n",
      "     D1   D2   D3   D4   D5   D6  Dmed_7  Dmed_8  DMed_1  DMed_2  DMed_3  \\\n",
      "0  21.0  2.0  1.0  6.0  1.0  1.0    30.0   152.0     4.0     1.0     4.0   \n",
      "1  22.0  2.0  1.0  4.0  3.0  1.0    29.0   150.0     3.0     1.0     8.0   \n",
      "2  33.0  2.0  1.0  6.0  6.0  1.0    32.0   160.0     1.0     1.0     4.0   \n",
      "3  17.0  2.0  1.0  5.0  6.0  1.0    31.0   168.0     5.0     1.0    12.0   \n",
      "4  17.0  1.0  1.0  4.0  1.0  1.0    34.0   220.0     5.0     1.0    12.0   \n",
      "\n",
      "   DMed_9  Dmed_10  Dmed_5  Dmed_6  \n",
      "0     3.0      5.0     1.0     1.0  \n",
      "1     3.0      6.0     1.0     1.0  \n",
      "2     6.0      5.0     1.0     1.0  \n",
      "3     2.0      5.0     1.0     3.0  \n",
      "4     3.0      4.0     7.0    15.0  \n"
     ]
    },
    {
     "name": "stderr",
     "output_type": "stream",
     "text": [
      "C:\\Users\\howar\\AppData\\Local\\Temp\\ipykernel_17400\\3810201732.py:18: SettingWithCopyWarning: \n",
      "A value is trying to be set on a copy of a slice from a DataFrame.\n",
      "Try using .loc[row_indexer,col_indexer] = value instead\n",
      "\n",
      "See the caveats in the documentation: https://pandas.pydata.org/pandas-docs/stable/user_guide/indexing.html#returning-a-view-versus-a-copy\n",
      "  demographic_data[column] = demographic_data[column].apply(clean_numeric)\n"
     ]
    }
   ],
   "source": [
    "import pandas as pd\n",
    "import re\n",
    "\n",
    "\n",
    "# 定义一个函数来清理数值数据\n",
    "def clean_numeric(value):\n",
    "    if isinstance(value, str):\n",
    "        # 使用正则表达式提取数值部分\n",
    "        numeric_value = re.findall(r'\\d+', value)\n",
    "        if numeric_value:\n",
    "            return float(numeric_value[0])\n",
    "        else:\n",
    "            return None\n",
    "    return value\n",
    "\n",
    "# 清理数据，将所有列转换为数值类型\n",
    "for column in demographic_data.columns:\n",
    "    demographic_data[column] = demographic_data[column].apply(clean_numeric)\n",
    "\n",
    "# 将数据转换为浮点型\n",
    "demographic_data = demographic_data.astype(float)\n",
    "\n",
    "# 获取第一行数据\n",
    "first_row = demographic_data.iloc[0]\n",
    "\n",
    "# 按列名、数据类型和内容分别打印\n",
    "for column_name in demographic_data.columns:\n",
    "    value = first_row[column_name]\n",
    "    dtype = demographic_data[column_name].dtype\n",
    "    print(f\"{column_name} (Type: {dtype}): {value}\")\n",
    "\n",
    "# 检查清理后的数据\n",
    "print(demographic_data.head())\n"
   ]
  },
  {
   "cell_type": "markdown",
   "metadata": {},
   "source": [
    "## Categorize into subgroups"
   ]
  },
  {
   "cell_type": "code",
   "execution_count": null,
   "metadata": {},
   "outputs": [],
   "source": [
    "import pandas as pd\n",
    "from sklearn.preprocessing import StandardScaler\n",
    "from sklearn.cluster import KMeans\n",
    "from sklearn.metrics import silhouette_score\n",
    "\n",
    "# 数据预处理\n",
    "# 将分类数据转换为数值\n",
    "demographic_data = demographic_data.apply(pd.to_numeric, errors='coerce')\n",
    "demographic_data = demographic_data.fillna(0)  # 填充缺失值\n",
    "\n",
    "# 标准化数据\n",
    "scaler = StandardScaler()\n",
    "demographic_data_scaled = scaler.fit_transform(demographic_data)\n",
    "\n",
    "# 使用KMeans进行聚类\n",
    "kmeans = KMeans(n_clusters=32, random_state=42)\n",
    "kmeans.fit(demographic_data_scaled)\n",
    "\n",
    "# 添加聚类标签到原始数据\n",
    "data['Cluster'] = kmeans.labels_\n",
    "\n",
    "# 评估聚类效果\n",
    "silhouette_avg = silhouette_score(demographic_data_scaled, kmeans.labels_)\n",
    "print(f\"Silhouette Score: {silhouette_avg}\")\n",
    "\n",
    "# 显示聚类结果的前几行\n",
    "print(data.head())\n"
   ]
  },
  {
   "cell_type": "code",
   "execution_count": null,
   "metadata": {},
   "outputs": [],
   "source": [
    "from sklearn.metrics import silhouette_score\n",
    "import matplotlib.pyplot as plt\n",
    "\n",
    "silhouette_scores = []\n",
    "K = range(2, 50)  # 试验不同的K值\n",
    "for k in K:\n",
    "    kmeans = KMeans(n_clusters=k, random_state=42)\n",
    "    kmeans.fit(demographic_data_scaled)\n",
    "    score = silhouette_score(demographic_data_scaled, kmeans.labels_)\n",
    "    silhouette_scores.append(score)\n",
    "\n",
    "# 绘制Silhouette Score随K值变化的图\n",
    "plt.plot(K, silhouette_scores)\n",
    "plt.xlabel('Number of clusters (K)')\n",
    "plt.ylabel('Silhouette Score')\n",
    "plt.title('Silhouette Score vs. Number of Clusters')\n",
    "plt.show()"
   ]
  },
  {
   "cell_type": "code",
   "execution_count": null,
   "metadata": {},
   "outputs": [],
   "source": [
    "from sklearn.cluster import AgglomerativeClustering\n",
    "from sklearn.metrics import silhouette_score\n",
    "# 尝试不同的簇数\n",
    "silhouette_scores = []\n",
    "K = range(2, 50)  # 试验不同的簇数\n",
    "for k in K:\n",
    "    hierarchical = AgglomerativeClustering(n_clusters=k)\n",
    "    labels = hierarchical.fit_predict(demographic_data_scaled)\n",
    "    score = silhouette_score(demographic_data_scaled, labels)\n",
    "    silhouette_scores.append(score)\n",
    "\n",
    "# 绘制Silhouette Score随簇数变化的图\n",
    "plt.plot(K, silhouette_scores)\n",
    "plt.xlabel('Number of clusters (K)')\n",
    "plt.ylabel('Silhouette Score')\n",
    "plt.title('Silhouette Score vs. Number of Clusters')\n",
    "plt.show()\n",
    "\n",
    "# 找到最优簇数\n",
    "best_k = K[silhouette_scores.index(max(silhouette_scores))]\n",
    "print(f\"Optimal number of clusters: {best_k}\")\n",
    "print(f\"Best Silhouette Score: {max(silhouette_scores)}\")"
   ]
  },
  {
   "cell_type": "code",
   "execution_count": null,
   "metadata": {},
   "outputs": [
    {
     "data": {
      "image/png": "[encoded data removed]",
      "text/plain": [
       "<Figure size 640x480 with 1 Axes>"
      ]
     },
     "metadata": {},
     "output_type": "display_data"
    },
    {
     "name": "stdout",
     "output_type": "stream",
     "text": [
      "Optimal number of clusters: 2\n",
      "Best Silhouette Score: 0.17039423255796\n"
     ]
    }
   ],
   "source": [
    "from sklearn.mixture import GaussianMixture\n",
    "from sklearn.metrics import silhouette_score\n",
    "import numpy as np\n",
    "import matplotlib.pyplot as plt\n",
    "\n",
    "# 尝试不同的簇数\n",
    "silhouette_scores = []\n",
    "K = range(2, 50)  # 试验不同的K值\n",
    "for k in K:\n",
    "    gmm = GaussianMixture(n_components=k, random_state=42)\n",
    "    gmm.fit(demographic_data_scaled)\n",
    "    labels = gmm.predict(demographic_data_scaled)\n",
    "    score = silhouette_score(demographic_data_scaled, labels)\n",
    "    silhouette_scores.append(score)\n",
    "\n",
    "# 绘制Silhouette Score随K值变化的图\n",
    "plt.plot(K, silhouette_scores)\n",
    "plt.xlabel('Number of clusters (K)')\n",
    "plt.ylabel('Silhouette Score')\n",
    "plt.title('Silhouette Score vs. Number of Clusters (GMM)')\n",
    "plt.show()\n",
    "\n",
    "# 找到最优簇数\n",
    "best_k = K[silhouette_scores.index(max(silhouette_scores))]\n",
    "print(f\"Optimal number of clusters: {best_k}\")\n",
    "print(f\"Best Silhouette Score: {max(silhouette_scores)}\")\n"
   ]
  },
  {
   "cell_type": "code",
   "execution_count": null,
   "metadata": {},
   "outputs": [
    {
     "data": {
      "image/png": "[encoded data removed]",
      "text/plain": [
       "<Figure size 640x480 with 1 Axes>"
      ]
     },
     "metadata": {},
     "output_type": "display_data"
    },
    {
     "name": "stdout",
     "output_type": "stream",
     "text": [
      "Optimal number of clusters: 2\n",
      "Best Silhouette Score: 0.3203275541884252\n"
     ]
    }
   ],
   "source": [
    "from sklearn.cluster import SpectralClustering\n",
    "\n",
    "# 尝试不同的簇数\n",
    "silhouette_scores = []\n",
    "K = range(2, 50)  # 试验不同的K值\n",
    "for k in K:\n",
    "    spectral = SpectralClustering(n_clusters=k, affinity='nearest_neighbors', random_state=42)\n",
    "    labels = spectral.fit_predict(demographic_data_scaled)\n",
    "    score = silhouette_score(demographic_data_scaled, labels)\n",
    "    silhouette_scores.append(score)\n",
    "\n",
    "# 绘制Silhouette Score随K值变化的图\n",
    "plt.plot(K, silhouette_scores)\n",
    "plt.xlabel('Number of clusters (K)')\n",
    "plt.ylabel('Silhouette Score')\n",
    "plt.title('Silhouette Score vs. Number of Clusters (Spectral Clustering)')\n",
    "plt.show()\n",
    "\n",
    "# 找到最优簇数\n",
    "best_k = K[silhouette_scores.index(max(silhouette_scores))]\n",
    "print(f\"Optimal number of clusters: {best_k}\")\n",
    "print(f\"Best Silhouette Score: {max(silhouette_scores)}\")\n"
   ]
  },
  {
   "cell_type": "code",
   "execution_count": null,
   "metadata": {},
   "outputs": [
    {
     "name": "stdout",
     "output_type": "stream",
     "text": [
      "Silhouette Score (HDBSCAN): 0.2908705558359704\n"
     ]
    },
    {
     "data": {
      "image/png": "[encoded data removed]",
      "text/plain": [
       "<Figure size 640x480 with 1 Axes>"
      ]
     },
     "metadata": {},
     "output_type": "display_data"
    }
   ],
   "source": [
    "import hdbscan\n",
    "\n",
    "# HDBSCAN 不需要指定簇数\n",
    "clusterer = hdbscan.HDBSCAN(min_cluster_size=10)\n",
    "labels = clusterer.fit_predict(demographic_data_scaled)\n",
    "\n",
    "# 计算Silhouette Score\n",
    "score = silhouette_score(demographic_data_scaled, labels)\n",
    "print(f\"Silhouette Score (HDBSCAN): {score}\")\n",
    "\n",
    "# 绘制聚类结果\n",
    "plt.scatter(demographic_data_scaled[:, 0], demographic_data_scaled[:, 1], c=labels, cmap='viridis')\n",
    "plt.xlabel('Feature 1')\n",
    "plt.ylabel('Feature 2')\n",
    "plt.title('HDBSCAN Clustering Result')\n",
    "plt.show()\n"
   ]
  },
  {
   "cell_type": "code",
   "execution_count": null,
   "metadata": {},
   "outputs": [],
   "source": [
    "import umap\n",
    "from sklearn.cluster import KMeans\n",
    "\n",
    "# UMAP降维\n",
    "reducer = umap.UMAP(n_neighbors=15, min_dist=0.1)\n",
    "embedding = reducer.fit_transform(demographic_data_scaled)\n",
    "\n",
    "# K-Means聚类\n",
    "silhouette_scores = []\n",
    "K = range(2, 50)  # 试验不同的K值\n",
    "for k in K:\n",
    "    kmeans = KMeans(n_clusters=k, random_state=42)\n",
    "    kmeans.fit(embedding)\n",
    "    labels = kmeans.labels_\n",
    "    score = silhouette_score(embedding, labels)\n",
    "    silhouette_scores.append(score)\n",
    "\n",
    "# 绘制Silhouette Score随K值变化的图\n",
    "plt.plot(K, silhouette_scores)\n",
    "plt.xlabel('Number of clusters (K)')\n",
    "plt.ylabel('Silhouette Score')\n",
    "plt.title('Silhouette Score vs. Number of Clusters (UMAP + K-Means)')\n",
    "plt.show()\n",
    "\n",
    "# 找到最优簇数\n",
    "best_k = K[silhouette_scores.index(max(silhouette_scores))]\n",
    "print(f\"Optimal number of clusters: {best_k}\")\n",
    "print(f\"Best Silhouette Score: {max(silhouette_scores)}\")\n"
   ]
  },
  {
   "cell_type": "code",
   "execution_count": 21,
   "metadata": {},
   "outputs": [
    {
     "name": "stderr",
     "output_type": "stream",
     "text": [
      "c:\\Users\\howar\\Anaconda3\\envs\\gpt\\lib\\site-packages\\tqdm\\auto.py:21: TqdmWarning: IProgress not found. Please update jupyter and ipywidgets. See https://ipywidgets.readthedocs.io/en/stable/user_install.html\n",
      "  from .autonotebook import tqdm as notebook_tqdm\n"
     ]
    },
    {
     "name": "stdout",
     "output_type": "stream",
     "text": [
      "Silhouette Score with 7 clusters: 0.5921945571899414\n"
     ]
    },
    {
     "data": {
      "image/png": "[encoded data removed]",
      "text/plain": [
       "<Figure size 640x480 with 1 Axes>"
      ]
     },
     "metadata": {},
     "output_type": "display_data"
    },
    {
     "name": "stdout",
     "output_type": "stream",
     "text": [
      "   File  Row   Q1   Q2   Q3  Q4  FQ1  FQ2  FQ3  ComQ1  ...  Dmed_7  Dmed_8  \\\n",
      "0     1    1  5.0  5.0  4.0   5  3.0  1.0    3    1.0  ...    30.0     152   \n",
      "1     1    2  4.0  4.0  4.0   4  3.0  1.0    3    2.0  ...    29.0     150   \n",
      "2     1    3  5.0  5.0  4.0   4  3.0  1.0    3    1.0  ...    32.0     160   \n",
      "3     1    4  5.0  5.0  4.0   4  3.0  4.0    3    1.0  ...    31.0     168   \n",
      "4     1    5  5.0  5.0  5.0   5  3.0  1.0    3    1.0  ...    34.0     220   \n",
      "\n",
      "   DMed_1 DMed_2  DMed_3  DMed_9  Dmed_10  Dmed_5  Dmed_6  Cluster  \n",
      "0     4.0    1.0     4.0     3.0      5.0     1.0     1.0        2  \n",
      "1     3.0    1.0     8.0     3.0      6.0     1.0     1.0        5  \n",
      "2     1.0    1.0     4.0     6.0      5.0     1.0     1.0        2  \n",
      "3     5.0    1.0    12.0     2.0      5.0     1.0     3.0        5  \n",
      "4     5.0    1.0    12.0     3.0      4.0     7.0    15.0        1  \n",
      "\n",
      "[5 rows x 124 columns]\n"
     ]
    }
   ],
   "source": [
    "import umap\n",
    "from sklearn.cluster import KMeans\n",
    "\n",
    "# UMAP降维\n",
    "reducer = umap.UMAP(n_neighbors=15, min_dist=0.1)\n",
    "embedding = reducer.fit_transform(demographic_data_scaled)\n",
    "\n",
    "# 选择最佳的簇数\n",
    "best_k = 7  # 你已经确定7是最佳簇数\n",
    "\n",
    "# 使用最佳的簇数进行K-Means聚类\n",
    "kmeans = KMeans(n_clusters=best_k, random_state=42)\n",
    "kmeans.fit(embedding)\n",
    "labels = kmeans.labels_\n",
    "\n",
    "# 计算Silhouette Score\n",
    "score = silhouette_score(embedding, labels)\n",
    "print(f\"Silhouette Score with {best_k} clusters: {score}\")\n",
    "\n",
    "# 绘制聚类结果\n",
    "plt.scatter(embedding[:, 0], embedding[:, 1], c=labels, cmap='viridis')\n",
    "plt.xlabel('UMAP Feature 1')\n",
    "plt.ylabel('UMAP Feature 2')\n",
    "plt.title('UMAP + K-Means Clustering Result')\n",
    "plt.show()\n",
    "\n",
    "# 将组标签添加到原始数据集中\n",
    "data['Cluster'] = labels\n",
    "\n",
    "# 显示数据集的前几行，检查是否正确添加了组标签\n",
    "print(data.head())\n"
   ]
  },
  {
   "cell_type": "code",
   "execution_count": 22,
   "metadata": {},
   "outputs": [
    {
     "name": "stdout",
     "output_type": "stream",
     "text": [
      "Dataset for Cluster_0 (first 5 rows):\n",
      "    File  Row   Q1   Q2   Q3  Q4  FQ1  FQ2  FQ3  ComQ1  ...  Dmed_7  Dmed_8  \\\n",
      "11     1   12  5.0  2.0  2.0   4  3.0  2.0    3    1.0  ...    30.0     123   \n",
      "26     1   27  5.0  5.0  4.0   4  1.0  1.0    2    1.0  ...    30.0     120   \n",
      "29     1   30  4.0  5.0  3.0   4  3.0  3.0    3    1.0  ...    30.0     250   \n",
      "31     1   32  1.0  5.0  5.0   5  3.0  2.0    3    3.0  ...    33.0     136   \n",
      "57     1   58  5.0  5.0  4.0   4  2.0  2.0    2    1.0  ...    29.0     144   \n",
      "\n",
      "    DMed_1 DMed_2  DMed_3  DMed_9  Dmed_10  Dmed_5  Dmed_6  Cluster  \n",
      "11     3.0    1.0     7.0     7.0      5.0     5.0     2.0        0  \n",
      "26     2.0    1.0    11.0     1.0      5.0     7.0     1.0        0  \n",
      "29     4.0    1.0     5.0     1.0      3.0     7.0     1.0        0  \n",
      "31     7.0    1.0    11.0     8.0      3.0     6.0     7.0        0  \n",
      "57     6.0    1.0    12.0     1.0      4.0     7.0     9.0        0  \n",
      "\n",
      "[5 rows x 124 columns]\n",
      "\n",
      "\n",
      "Dataset for Cluster_1 (first 5 rows):\n",
      "    File  Row   Q1   Q2   Q3  Q4  FQ1  FQ2  FQ3  ComQ1  ...  Dmed_7  Dmed_8  \\\n",
      "4      1    5  5.0  5.0  5.0   5  3.0  1.0    3    1.0  ...    34.0     220   \n",
      "5      1    6  5.0  5.0  5.0   4  3.0  1.0    3    1.0  ...    38.0     190   \n",
      "8      1    9  5.0  5.0  5.0   4  3.0  2.0    3    2.0  ...    32.0     140   \n",
      "17     1   18  5.0  5.0  5.0   4  3.0  2.0    3    1.0  ...    30.0     225   \n",
      "19     1   20  5.0  5.0  5.0   2  3.0  3.0    3    1.0  ...    36.0     250   \n",
      "\n",
      "    DMed_1 DMed_2  DMed_3  DMed_9  Dmed_10  Dmed_5  Dmed_6  Cluster  \n",
      "4      5.0    1.0    12.0     3.0      4.0     7.0    15.0        1  \n",
      "5      1.0    1.0     1.0     1.0      1.0     7.0    22.0        1  \n",
      "8      1.0    1.0     3.0     2.0      4.0     1.0     2.0        1  \n",
      "17     2.0    1.0     6.0     2.0      1.0     1.0     2.0        1  \n",
      "19     6.0    1.0     3.0     3.0      5.0     7.0    11.0        1  \n",
      "\n",
      "[5 rows x 124 columns]\n",
      "\n",
      "\n",
      "Dataset for Cluster_2 (first 5 rows):\n",
      "    File  Row   Q1   Q2   Q3  Q4  FQ1  FQ2  FQ3  ComQ1  ...  Dmed_7  Dmed_8  \\\n",
      "0      1    1  5.0  5.0  4.0   5  3.0  1.0    3    1.0  ...    30.0     152   \n",
      "2      1    3  5.0  5.0  4.0   4  3.0  1.0    3    1.0  ...    32.0     160   \n",
      "10     1   11  4.0  4.0  3.0   5  3.0  1.0    3    1.0  ...    29.0     165   \n",
      "12     1   13  5.0  5.0  5.0   5  3.0  4.0    3    1.0  ...    29.0     140   \n",
      "13     1   14  5.0  5.0  5.0   4  3.0  1.0    3    1.0  ...    26.0     108   \n",
      "\n",
      "    DMed_1 DMed_2  DMed_3  DMed_9  Dmed_10  Dmed_5  Dmed_6  Cluster  \n",
      "0      4.0    1.0     4.0     3.0      5.0     1.0     1.0        2  \n",
      "2      1.0    1.0     4.0     6.0      5.0     1.0     1.0        2  \n",
      "10     3.0    1.0     3.0     4.0      5.0     3.0     3.0        2  \n",
      "12     2.0    1.0     4.0     7.0      4.0     1.0     1.0        2  \n",
      "13     5.0    1.0     7.0     1.0      5.0     1.0     2.0        2  \n",
      "\n",
      "[5 rows x 124 columns]\n",
      "\n",
      "\n",
      "Dataset for Cluster_3 (first 5 rows):\n",
      "    File  Row   Q1   Q2   Q3  Q4  FQ1  FQ2  FQ3  ComQ1  ...  Dmed_7  Dmed_8  \\\n",
      "6      1    7  3.0  5.0  4.0   2  2.0  2.0    2    2.0  ...    31.0     128   \n",
      "9      1   10  5.0  5.0  5.0   4  3.0  1.0    3    1.0  ...    36.0     190   \n",
      "14     1   15  5.0  5.0  5.0   5  3.0  1.0    3    3.0  ...    32.0     152   \n",
      "18     1   19  5.0  5.0  5.0   5  3.0  1.0    3    1.0  ...    36.0     195   \n",
      "22     1   23  5.0  5.0  5.0   5  3.0  2.0    3    1.0  ...    22.0     128   \n",
      "\n",
      "    DMed_1 DMed_2  DMed_3  DMed_9  Dmed_10  Dmed_5  Dmed_6  Cluster  \n",
      "6      2.0    2.0     3.0     4.0      2.0     1.0     1.0        3  \n",
      "9      1.0    2.0     1.0     1.0      6.0     1.0     6.0        3  \n",
      "14     1.0    2.0     2.0     2.0      6.0     1.0     1.0        3  \n",
      "18     1.0    2.0     3.0     5.0      6.0     1.0     1.0        3  \n",
      "22     1.0    2.0     1.0     8.0      6.0     1.0     2.0        3  \n",
      "\n",
      "[5 rows x 124 columns]\n",
      "\n",
      "\n",
      "Dataset for Cluster_4 (first 5 rows):\n",
      "     File  Row   Q1   Q2   Q3  Q4  FQ1  FQ2  FQ3  ComQ1  ...  Dmed_7  Dmed_8  \\\n",
      "71      1   72  3.0  3.0  5.0   4  2.0  2.0    3    1.0  ...     5.0     154   \n",
      "93      1   94  1.0  2.0  1.0   5  1.0  2.0    1    1.0  ...    31.0     154   \n",
      "118     1  119  2.0  2.0  2.0   2  2.0  2.0    2    2.0  ...    30.0     115   \n",
      "160     1  161  5.0  4.0  3.0   2  2.0  2.0    3    1.0  ...    24.0     155   \n",
      "181     1  182  5.0  5.0  5.0   4  3.0  2.0    3    1.0  ...    35.0     160   \n",
      "\n",
      "     DMed_1 DMed_2  DMed_3  DMed_9  Dmed_10  Dmed_5  Dmed_6  Cluster  \n",
      "71      3.0    2.0     1.0     2.0      5.0     1.0     1.0        4  \n",
      "93      1.0    1.0     5.0     7.0      7.0     1.0     4.0        4  \n",
      "118     3.0    1.0     4.0     5.0      5.0     1.0     1.0        4  \n",
      "160     1.0    1.0     2.0     1.0      4.0     1.0     1.0        4  \n",
      "181     1.0    1.0     4.0     5.0      5.0     1.0    15.0        4  \n",
      "\n",
      "[5 rows x 124 columns]\n",
      "\n",
      "\n",
      "Dataset for Cluster_5 (first 5 rows):\n",
      "    File  Row   Q1   Q2   Q3  Q4  FQ1  FQ2  FQ3  ComQ1  ...  Dmed_7  Dmed_8  \\\n",
      "1      1    2  4.0  4.0  4.0   4  3.0  1.0    3    2.0  ...    29.0     150   \n",
      "3      1    4  5.0  5.0  4.0   4  3.0  4.0    3    1.0  ...    31.0     168   \n",
      "7      1    8  3.0  4.0  4.0   4  3.0  2.0    3    2.0  ...    27.0     138   \n",
      "16     1   17  5.0  5.0  5.0   5  3.0  1.0    3    1.0  ...    34.0     360   \n",
      "25     1   26  4.0  5.0  5.0   3  3.0  2.0    3    2.0  ...    31.0     232   \n",
      "\n",
      "    DMed_1 DMed_2  DMed_3  DMed_9  Dmed_10  Dmed_5  Dmed_6  Cluster  \n",
      "1      3.0    1.0     8.0     3.0      6.0     1.0     1.0        5  \n",
      "3      5.0    1.0    12.0     2.0      5.0     1.0     3.0        5  \n",
      "7      1.0    1.0     4.0     3.0      5.0     1.0     1.0        5  \n",
      "16     3.0    1.0     5.0     1.0      2.0     1.0     2.0        5  \n",
      "25     1.0    1.0     3.0     3.0      4.0     1.0     5.0        5  \n",
      "\n",
      "[5 rows x 124 columns]\n",
      "\n",
      "\n",
      "Dataset for Cluster_6 (first 5 rows):\n",
      "     File  Row   Q1   Q2   Q3  Q4  FQ1  FQ2  FQ3  ComQ1  ...  Dmed_7  Dmed_8  \\\n",
      "21      1   22  4.0  3.0  4.0   4  2.0  1.0    2    2.0  ...    30.0     169   \n",
      "32      1   33  3.0  4.0  4.0   4  3.0  1.0    3    1.0  ...    35.0     140   \n",
      "56      1   57  3.0  4.0  5.0   2  3.0  2.0    3    1.0  ...    29.0     136   \n",
      "94      1   95  4.0  4.0  4.0   3  2.0  1.0    2    1.0  ...    39.0     270   \n",
      "154     1  155  5.0  4.0  4.0   3  2.0  1.0    2    2.0  ...    33.0     138   \n",
      "\n",
      "     DMed_1 DMed_2  DMed_3  DMed_9  Dmed_10  Dmed_5  Dmed_6  Cluster  \n",
      "21      1.0    1.0     6.0     3.0      4.0     1.0     1.0        6  \n",
      "32      1.0    1.0     5.0     3.0      5.0     1.0     3.0        6  \n",
      "56      2.0    1.0     4.0     3.0      4.0     1.0     1.0        6  \n",
      "94      1.0    1.0     5.0     1.0      1.0     1.0     1.0        6  \n",
      "154     2.0    1.0     6.0     2.0      5.0     1.0     5.0        6  \n",
      "\n",
      "[5 rows x 124 columns]\n",
      "\n",
      "\n"
     ]
    }
   ],
   "source": [
    "# 分割数据集为7个子数据集\n",
    "clustered_datasets = {}\n",
    "for i in range(best_k):\n",
    "    clustered_datasets[f'Cluster_{i}'] = data[data['Cluster'] == i]\n",
    "\n",
    "# 显示每个子数据集的前几行，验证分割的正确性\n",
    "for cluster, dataset in clustered_datasets.items():\n",
    "    print(f\"Dataset for {cluster} (first 5 rows):\")\n",
    "    print(dataset.head())\n",
    "    print(\"\\n\")"
   ]
  },
  {
   "cell_type": "markdown",
   "metadata": {},
   "source": [
    "## 2. Pretrain GPT Model"
   ]
  },
  {
   "cell_type": "code",
   "execution_count": 9,
   "metadata": {},
   "outputs": [
    {
     "name": "stdout",
     "output_type": "stream",
     "text": [
      "Saved Data/clusters\\Cluster_0.txt\n",
      "Saved Data/clusters\\Cluster_1.txt\n",
      "Saved Data/clusters\\Cluster_2.txt\n",
      "Saved Data/clusters\\Cluster_3.txt\n",
      "Saved Data/clusters\\Cluster_4.txt\n",
      "Saved Data/clusters\\Cluster_5.txt\n",
      "Saved Data/clusters\\Cluster_6.txt\n"
     ]
    }
   ],
   "source": [
    "import os\n",
    "\n",
    "# 创建文件夹\n",
    "output_dir = 'Data/clusters'\n",
    "os.makedirs(output_dir, exist_ok=True)\n",
    "\n",
    "\n"
   ]
  },
  {
   "cell_type": "markdown",
   "metadata": {},
   "source": [
    "### some other models (test later)"
   ]
  },
  {
   "cell_type": "markdown",
   "metadata": {},
   "source": [
    "#### gpt2 model"
   ]
  },
  {
   "cell_type": "code",
   "execution_count": 12,
   "metadata": {},
   "outputs": [
    {
     "name": "stdout",
     "output_type": "stream",
     "text": [
      "Using CPU\n",
      "tensor([1., 2., 3.])\n"
     ]
    }
   ],
   "source": [
    "import torch\n",
    "# Check if CUDA is available\n",
    "if torch.cuda.is_available():\n",
    "    device = torch.device(\"cuda\")\n",
    "    print(f\"Using GPU: {torch.cuda.get_device_name(0)}\")\n",
    "    print('Memory Usage:')\n",
    "    print('Allocated:', round(torch.cuda.memory_allocated(0)/1024**3,1), 'GB')\n",
    "    print('Cached:   ', round(torch.cuda.memory_reserved(0)/1024**3,1), 'GB')\n",
    "else:\n",
    "    device = torch.device(\"cpu\")\n",
    "    print(\"Using CPU\")\n",
    "\n",
    "# Example usage: Move a tensor to the GPU\n",
    "tensor = torch.tensor([1.0, 2.0, 3.0])\n",
    "tensor = tensor.to(device)\n",
    "print(tensor)"
   ]
  },
  {
   "cell_type": "code",
   "execution_count": 1,
   "metadata": {},
   "outputs": [
    {
     "name": "stderr",
     "output_type": "stream",
     "text": [
      "c:\\Users\\howar\\Anaconda3\\envs\\gpt\\lib\\site-packages\\tqdm\\auto.py:21: TqdmWarning: IProgress not found. Please update jupyter and ipywidgets. See https://ipywidgets.readthedocs.io/en/stable/user_install.html\n",
      "  from .autonotebook import tqdm as notebook_tqdm\n"
     ]
    },
    {
     "name": "stdout",
     "output_type": "stream",
     "text": [
      "Using device: cpu\n"
     ]
    },
    {
     "ename": "NameError",
     "evalue": "name 'clustered_datasets' is not defined",
     "output_type": "error",
     "traceback": [
      "\u001b[1;31m---------------------------------------------------------------------------\u001b[0m",
      "\u001b[1;31mNameError\u001b[0m                                 Traceback (most recent call last)",
      "Cell \u001b[1;32mIn[1], line 65\u001b[0m\n\u001b[0;32m     62\u001b[0m     tokenizer\u001b[38;5;241m.\u001b[39msave_pretrained(\u001b[38;5;124mf\u001b[39m\u001b[38;5;124m'\u001b[39m\u001b[38;5;124m./\u001b[39m\u001b[38;5;132;01m{\u001b[39;00mcluster\u001b[38;5;132;01m}\u001b[39;00m\u001b[38;5;124m_model\u001b[39m\u001b[38;5;124m'\u001b[39m)\n\u001b[0;32m     64\u001b[0m \u001b[38;5;66;03m# Train models for each cluster\u001b[39;00m\n\u001b[1;32m---> 65\u001b[0m \u001b[38;5;28;01mfor\u001b[39;00m cluster \u001b[38;5;129;01min\u001b[39;00m \u001b[43mclustered_datasets\u001b[49m\u001b[38;5;241m.\u001b[39mkeys():\n\u001b[0;32m     66\u001b[0m     train_model(cluster)\n",
      "\u001b[1;31mNameError\u001b[0m: name 'clustered_datasets' is not defined"
     ]
    }
   ],
   "source": [
    "import torch\n",
    "from transformers import TrainingArguments, Trainer, GPT2LMHeadModel, GPT2Tokenizer, TextDataset, DataCollatorForLanguageModeling\n",
    "import os\n",
    "\n",
    "# Check if CUDA is available\n",
    "device = torch.device(\"cuda\" if torch.cuda.is_available() else \"cpu\")\n",
    "print(f\"Using device: {device}\")\n",
    "if device.type == \"cuda\":\n",
    "    print(f\"GPU: {torch.cuda.get_device_name(0)}\")\n",
    "\n",
    "# Load pretrained model and tokenizer\n",
    "model_name = 'gpt2'\n",
    "tokenizer = GPT2Tokenizer.from_pretrained(model_name)\n",
    "model = GPT2LMHeadModel.from_pretrained(model_name)\n",
    "\n",
    "# Move model to device\n",
    "model.to(device)\n",
    "\n",
    "# Prepare data\n",
    "def load_dataset(file_path):\n",
    "    return TextDataset(\n",
    "        tokenizer=tokenizer,\n",
    "        file_path=file_path,\n",
    "        block_size=128\n",
    "    )\n",
    "\n",
    "def create_data_collator(tokenizer):\n",
    "    return DataCollatorForLanguageModeling(\n",
    "        tokenizer=tokenizer,\n",
    "        mlm=False,\n",
    "    )\n",
    "\n",
    "# Set training arguments\n",
    "training_args = TrainingArguments(\n",
    "    output_dir='./results',\n",
    "    overwrite_output_dir=True,\n",
    "    num_train_epochs=3,\n",
    "    per_device_train_batch_size=8,\n",
    "    save_steps=10_000,\n",
    "    save_total_limit=2,\n",
    "    fp16=True,  # Enable mixed precision training\n",
    "    gradient_accumulation_steps=2  # Accumulate gradients\n",
    ")\n",
    "\n",
    "# Training function\n",
    "def train_model(cluster):\n",
    "    dataset = load_dataset(f'Data/clusters/{cluster}.txt')\n",
    "    data_collator = create_data_collator(tokenizer)\n",
    "\n",
    "    trainer = Trainer(\n",
    "        model=model,\n",
    "        args=training_args,\n",
    "        data_collator=data_collator,\n",
    "        train_dataset=dataset\n",
    "    )\n",
    "\n",
    "    print(f'Training model for {cluster}')\n",
    "    trainer.train()\n",
    "\n",
    "    # Save the fine-tuned model\n",
    "    model.save_pretrained(f'./{cluster}_model')\n",
    "    tokenizer.save_pretrained(f'./{cluster}_model')\n",
    "\n",
    "# Train models for each cluster\n",
    "for cluster in clustered_datasets.keys():\n",
    "    train_model(cluster)\n"
   ]
  },
  {
   "cell_type": "markdown",
   "metadata": {},
   "source": [
    "#### BERT model"
   ]
  },
  {
   "cell_type": "code",
   "execution_count": 20,
   "metadata": {},
   "outputs": [
    {
     "ename": "KeyboardInterrupt",
     "evalue": "",
     "output_type": "error",
     "traceback": [
      "\u001b[1;31m---------------------------------------------------------------------------\u001b[0m",
      "\u001b[1;31mKeyboardInterrupt\u001b[0m                         Traceback (most recent call last)",
      "Cell \u001b[1;32mIn[20], line 1\u001b[0m\n\u001b[1;32m----> 1\u001b[0m \u001b[38;5;28;01mfrom\u001b[39;00m \u001b[38;5;21;01mtransformers\u001b[39;00m \u001b[38;5;28;01mimport\u001b[39;00m BertTokenizer, BertForMaskedLM, Trainer, TrainingArguments, DataCollatorForLanguageModeling\n\u001b[0;32m      2\u001b[0m \u001b[38;5;28;01mfrom\u001b[39;00m \u001b[38;5;21;01mdatasets\u001b[39;00m \u001b[38;5;28;01mimport\u001b[39;00m load_dataset\n\u001b[0;32m      4\u001b[0m \u001b[38;5;66;03m# Load pretrained model and tokenizer\u001b[39;00m\n",
      "File \u001b[1;32m<frozen importlib._bootstrap>:1055\u001b[0m, in \u001b[0;36m_handle_fromlist\u001b[1;34m(module, fromlist, import_, recursive)\u001b[0m\n",
      "File \u001b[1;32mc:\\Users\\howar\\Anaconda3\\envs\\gpt\\lib\\site-packages\\transformers\\utils\\import_utils.py:1526\u001b[0m, in \u001b[0;36m_LazyModule.__getattr__\u001b[1;34m(self, name)\u001b[0m\n\u001b[0;32m   1524\u001b[0m \u001b[38;5;28;01melif\u001b[39;00m name \u001b[38;5;129;01min\u001b[39;00m \u001b[38;5;28mself\u001b[39m\u001b[38;5;241m.\u001b[39m_class_to_module\u001b[38;5;241m.\u001b[39mkeys():\n\u001b[0;32m   1525\u001b[0m     module \u001b[38;5;241m=\u001b[39m \u001b[38;5;28mself\u001b[39m\u001b[38;5;241m.\u001b[39m_get_module(\u001b[38;5;28mself\u001b[39m\u001b[38;5;241m.\u001b[39m_class_to_module[name])\n\u001b[1;32m-> 1526\u001b[0m     value \u001b[38;5;241m=\u001b[39m \u001b[38;5;28;43mgetattr\u001b[39;49m\u001b[43m(\u001b[49m\u001b[43mmodule\u001b[49m\u001b[43m,\u001b[49m\u001b[43m \u001b[49m\u001b[43mname\u001b[49m\u001b[43m)\u001b[49m\n\u001b[0;32m   1527\u001b[0m \u001b[38;5;28;01melse\u001b[39;00m:\n\u001b[0;32m   1528\u001b[0m     \u001b[38;5;28;01mraise\u001b[39;00m \u001b[38;5;167;01mAttributeError\u001b[39;00m(\u001b[38;5;124mf\u001b[39m\u001b[38;5;124m\"\u001b[39m\u001b[38;5;124mmodule \u001b[39m\u001b[38;5;132;01m{\u001b[39;00m\u001b[38;5;28mself\u001b[39m\u001b[38;5;241m.\u001b[39m\u001b[38;5;18m__name__\u001b[39m\u001b[38;5;132;01m}\u001b[39;00m\u001b[38;5;124m has no attribute \u001b[39m\u001b[38;5;132;01m{\u001b[39;00mname\u001b[38;5;132;01m}\u001b[39;00m\u001b[38;5;124m\"\u001b[39m)\n",
      "File \u001b[1;32mc:\\Users\\howar\\Anaconda3\\envs\\gpt\\lib\\site-packages\\transformers\\utils\\import_utils.py:1525\u001b[0m, in \u001b[0;36m_LazyModule.__getattr__\u001b[1;34m(self, name)\u001b[0m\n\u001b[0;32m   1523\u001b[0m     value \u001b[38;5;241m=\u001b[39m \u001b[38;5;28mself\u001b[39m\u001b[38;5;241m.\u001b[39m_get_module(name)\n\u001b[0;32m   1524\u001b[0m \u001b[38;5;28;01melif\u001b[39;00m name \u001b[38;5;129;01min\u001b[39;00m \u001b[38;5;28mself\u001b[39m\u001b[38;5;241m.\u001b[39m_class_to_module\u001b[38;5;241m.\u001b[39mkeys():\n\u001b[1;32m-> 1525\u001b[0m     module \u001b[38;5;241m=\u001b[39m \u001b[38;5;28;43mself\u001b[39;49m\u001b[38;5;241;43m.\u001b[39;49m\u001b[43m_get_module\u001b[49m\u001b[43m(\u001b[49m\u001b[38;5;28;43mself\u001b[39;49m\u001b[38;5;241;43m.\u001b[39;49m\u001b[43m_class_to_module\u001b[49m\u001b[43m[\u001b[49m\u001b[43mname\u001b[49m\u001b[43m]\u001b[49m\u001b[43m)\u001b[49m\n\u001b[0;32m   1526\u001b[0m     value \u001b[38;5;241m=\u001b[39m \u001b[38;5;28mgetattr\u001b[39m(module, name)\n\u001b[0;32m   1527\u001b[0m \u001b[38;5;28;01melse\u001b[39;00m:\n",
      "File \u001b[1;32mc:\\Users\\howar\\Anaconda3\\envs\\gpt\\lib\\site-packages\\transformers\\utils\\import_utils.py:1535\u001b[0m, in \u001b[0;36m_LazyModule._get_module\u001b[1;34m(self, module_name)\u001b[0m\n\u001b[0;32m   1533\u001b[0m \u001b[38;5;28;01mdef\u001b[39;00m \u001b[38;5;21m_get_module\u001b[39m(\u001b[38;5;28mself\u001b[39m, module_name: \u001b[38;5;28mstr\u001b[39m):\n\u001b[0;32m   1534\u001b[0m     \u001b[38;5;28;01mtry\u001b[39;00m:\n\u001b[1;32m-> 1535\u001b[0m         \u001b[38;5;28;01mreturn\u001b[39;00m \u001b[43mimportlib\u001b[49m\u001b[38;5;241;43m.\u001b[39;49m\u001b[43mimport_module\u001b[49m\u001b[43m(\u001b[49m\u001b[38;5;124;43m\"\u001b[39;49m\u001b[38;5;124;43m.\u001b[39;49m\u001b[38;5;124;43m\"\u001b[39;49m\u001b[43m \u001b[49m\u001b[38;5;241;43m+\u001b[39;49m\u001b[43m \u001b[49m\u001b[43mmodule_name\u001b[49m\u001b[43m,\u001b[49m\u001b[43m \u001b[49m\u001b[38;5;28;43mself\u001b[39;49m\u001b[38;5;241;43m.\u001b[39;49m\u001b[38;5;18;43m__name__\u001b[39;49m\u001b[43m)\u001b[49m\n\u001b[0;32m   1536\u001b[0m     \u001b[38;5;28;01mexcept\u001b[39;00m \u001b[38;5;167;01mException\u001b[39;00m \u001b[38;5;28;01mas\u001b[39;00m e:\n\u001b[0;32m   1537\u001b[0m         \u001b[38;5;28;01mraise\u001b[39;00m \u001b[38;5;167;01mRuntimeError\u001b[39;00m(\n\u001b[0;32m   1538\u001b[0m             \u001b[38;5;124mf\u001b[39m\u001b[38;5;124m\"\u001b[39m\u001b[38;5;124mFailed to import \u001b[39m\u001b[38;5;132;01m{\u001b[39;00m\u001b[38;5;28mself\u001b[39m\u001b[38;5;241m.\u001b[39m\u001b[38;5;18m__name__\u001b[39m\u001b[38;5;132;01m}\u001b[39;00m\u001b[38;5;124m.\u001b[39m\u001b[38;5;132;01m{\u001b[39;00mmodule_name\u001b[38;5;132;01m}\u001b[39;00m\u001b[38;5;124m because of the following error (look up to see its\u001b[39m\u001b[38;5;124m\"\u001b[39m\n\u001b[0;32m   1539\u001b[0m             \u001b[38;5;124mf\u001b[39m\u001b[38;5;124m\"\u001b[39m\u001b[38;5;124m traceback):\u001b[39m\u001b[38;5;130;01m\\n\u001b[39;00m\u001b[38;5;132;01m{\u001b[39;00me\u001b[38;5;132;01m}\u001b[39;00m\u001b[38;5;124m\"\u001b[39m\n\u001b[0;32m   1540\u001b[0m         ) \u001b[38;5;28;01mfrom\u001b[39;00m \u001b[38;5;21;01me\u001b[39;00m\n",
      "File \u001b[1;32mc:\\Users\\howar\\Anaconda3\\envs\\gpt\\lib\\importlib\\__init__.py:127\u001b[0m, in \u001b[0;36mimport_module\u001b[1;34m(name, package)\u001b[0m\n\u001b[0;32m    125\u001b[0m             \u001b[38;5;28;01mbreak\u001b[39;00m\n\u001b[0;32m    126\u001b[0m         level \u001b[38;5;241m+\u001b[39m\u001b[38;5;241m=\u001b[39m \u001b[38;5;241m1\u001b[39m\n\u001b[1;32m--> 127\u001b[0m \u001b[38;5;28;01mreturn\u001b[39;00m \u001b[43m_bootstrap\u001b[49m\u001b[38;5;241;43m.\u001b[39;49m\u001b[43m_gcd_import\u001b[49m\u001b[43m(\u001b[49m\u001b[43mname\u001b[49m\u001b[43m[\u001b[49m\u001b[43mlevel\u001b[49m\u001b[43m:\u001b[49m\u001b[43m]\u001b[49m\u001b[43m,\u001b[49m\u001b[43m \u001b[49m\u001b[43mpackage\u001b[49m\u001b[43m,\u001b[49m\u001b[43m \u001b[49m\u001b[43mlevel\u001b[49m\u001b[43m)\u001b[49m\n",
      "File \u001b[1;32mc:\\Users\\howar\\Anaconda3\\envs\\gpt\\lib\\site-packages\\transformers\\models\\bert\\modeling_bert.py:25\u001b[0m\n\u001b[0;32m     22\u001b[0m \u001b[38;5;28;01mfrom\u001b[39;00m \u001b[38;5;21;01mtyping\u001b[39;00m \u001b[38;5;28;01mimport\u001b[39;00m List, Optional, Tuple, Union\n\u001b[0;32m     24\u001b[0m \u001b[38;5;28;01mimport\u001b[39;00m \u001b[38;5;21;01mtorch\u001b[39;00m\n\u001b[1;32m---> 25\u001b[0m \u001b[38;5;28;01mimport\u001b[39;00m \u001b[38;5;21;01mtorch\u001b[39;00m\u001b[38;5;21;01m.\u001b[39;00m\u001b[38;5;21;01mutils\u001b[39;00m\u001b[38;5;21;01m.\u001b[39;00m\u001b[38;5;21;01mcheckpoint\u001b[39;00m\n\u001b[0;32m     26\u001b[0m \u001b[38;5;28;01mfrom\u001b[39;00m \u001b[38;5;21;01mpackaging\u001b[39;00m \u001b[38;5;28;01mimport\u001b[39;00m version\n\u001b[0;32m     27\u001b[0m \u001b[38;5;28;01mfrom\u001b[39;00m \u001b[38;5;21;01mtorch\u001b[39;00m \u001b[38;5;28;01mimport\u001b[39;00m nn\n",
      "File \u001b[1;32mc:\\Users\\howar\\Anaconda3\\envs\\gpt\\lib\\site-packages\\torch\\utils\\checkpoint.py:23\u001b[0m\n\u001b[0;32m     21\u001b[0m \u001b[38;5;28;01mimport\u001b[39;00m \u001b[38;5;21;01mtorch\u001b[39;00m\n\u001b[0;32m     22\u001b[0m \u001b[38;5;28;01mimport\u001b[39;00m \u001b[38;5;21;01mtorch\u001b[39;00m\u001b[38;5;21;01m.\u001b[39;00m\u001b[38;5;21;01mfx\u001b[39;00m\u001b[38;5;21;01m.\u001b[39;00m\u001b[38;5;21;01mtraceback\u001b[39;00m \u001b[38;5;28;01mas\u001b[39;00m \u001b[38;5;21;01mfx_traceback\u001b[39;00m\n\u001b[1;32m---> 23\u001b[0m \u001b[38;5;28;01mfrom\u001b[39;00m \u001b[38;5;21;01mtorch\u001b[39;00m\u001b[38;5;21;01m.\u001b[39;00m\u001b[38;5;21;01m_functorch\u001b[39;00m\u001b[38;5;21;01m.\u001b[39;00m\u001b[38;5;21;01m_aot_autograd\u001b[39;00m\u001b[38;5;21;01m.\u001b[39;00m\u001b[38;5;21;01mfunctional_utils\u001b[39;00m \u001b[38;5;28;01mimport\u001b[39;00m is_fun\n\u001b[0;32m     24\u001b[0m \u001b[38;5;28;01mfrom\u001b[39;00m \u001b[38;5;21;01mtorch\u001b[39;00m\u001b[38;5;21;01m.\u001b[39;00m\u001b[38;5;21;01mutils\u001b[39;00m\u001b[38;5;21;01m.\u001b[39;00m\u001b[38;5;21;01m_pytree\u001b[39;00m \u001b[38;5;28;01mimport\u001b[39;00m tree_map\n\u001b[0;32m     25\u001b[0m \u001b[38;5;28;01mfrom\u001b[39;00m \u001b[38;5;21;01mtorch\u001b[39;00m\u001b[38;5;21;01m.\u001b[39;00m\u001b[38;5;21;01mtesting\u001b[39;00m\u001b[38;5;21;01m.\u001b[39;00m\u001b[38;5;21;01m_internal\u001b[39;00m\u001b[38;5;21;01m.\u001b[39;00m\u001b[38;5;21;01mlogging_tensor\u001b[39;00m \u001b[38;5;28;01mimport\u001b[39;00m capture_logs, LoggingTensorMode\n",
      "File \u001b[1;32mc:\\Users\\howar\\Anaconda3\\envs\\gpt\\lib\\site-packages\\torch\\_functorch\\_aot_autograd\\functional_utils.py:13\u001b[0m\n\u001b[0;32m     11\u001b[0m \u001b[38;5;28;01mfrom\u001b[39;00m \u001b[38;5;21;01mtorch\u001b[39;00m\u001b[38;5;21;01m.\u001b[39;00m\u001b[38;5;21;01m_subclasses\u001b[39;00m\u001b[38;5;21;01m.\u001b[39;00m\u001b[38;5;21;01mfake_tensor\u001b[39;00m \u001b[38;5;28;01mimport\u001b[39;00m FakeTensor\n\u001b[0;32m     12\u001b[0m \u001b[38;5;28;01mfrom\u001b[39;00m \u001b[38;5;21;01mtorch\u001b[39;00m\u001b[38;5;21;01m.\u001b[39;00m\u001b[38;5;21;01m_subclasses\u001b[39;00m\u001b[38;5;21;01m.\u001b[39;00m\u001b[38;5;21;01mfunctional_tensor\u001b[39;00m \u001b[38;5;28;01mimport\u001b[39;00m FunctionalTensor\n\u001b[1;32m---> 13\u001b[0m \u001b[38;5;28;01mfrom\u001b[39;00m \u001b[38;5;21;01mtorch\u001b[39;00m\u001b[38;5;21;01m.\u001b[39;00m\u001b[38;5;21;01mfx\u001b[39;00m\u001b[38;5;21;01m.\u001b[39;00m\u001b[38;5;21;01mexperimental\u001b[39;00m\u001b[38;5;21;01m.\u001b[39;00m\u001b[38;5;21;01msymbolic_shapes\u001b[39;00m \u001b[38;5;28;01mimport\u001b[39;00m definitely_true, sym_eq\n\u001b[0;32m     14\u001b[0m \u001b[38;5;28;01mfrom\u001b[39;00m \u001b[38;5;21;01mtorch\u001b[39;00m\u001b[38;5;21;01m.\u001b[39;00m\u001b[38;5;21;01mmultiprocessing\u001b[39;00m\u001b[38;5;21;01m.\u001b[39;00m\u001b[38;5;21;01mreductions\u001b[39;00m \u001b[38;5;28;01mimport\u001b[39;00m StorageWeakRef\n\u001b[0;32m     15\u001b[0m \u001b[38;5;28;01mfrom\u001b[39;00m \u001b[38;5;21;01mtorch\u001b[39;00m\u001b[38;5;21;01m.\u001b[39;00m\u001b[38;5;21;01mutils\u001b[39;00m\u001b[38;5;21;01m.\u001b[39;00m\u001b[38;5;21;01m_python_dispatch\u001b[39;00m \u001b[38;5;28;01mimport\u001b[39;00m (\n\u001b[0;32m     16\u001b[0m     is_traceable_wrapper_subclass,\n\u001b[0;32m     17\u001b[0m     transform_subclass,\n\u001b[0;32m     18\u001b[0m )\n",
      "File \u001b[1;32mc:\\Users\\howar\\Anaconda3\\envs\\gpt\\lib\\site-packages\\torch\\fx\\experimental\\symbolic_shapes.py:63\u001b[0m\n\u001b[0;32m     61\u001b[0m \u001b[38;5;28;01mfrom\u001b[39;00m \u001b[38;5;21;01mtorch\u001b[39;00m\u001b[38;5;21;01m.\u001b[39;00m\u001b[38;5;21;01m_guards\u001b[39;00m \u001b[38;5;28;01mimport\u001b[39;00m ShapeGuard, Source, TracingContext\n\u001b[0;32m     62\u001b[0m \u001b[38;5;28;01mfrom\u001b[39;00m \u001b[38;5;21;01mtorch\u001b[39;00m\u001b[38;5;21;01m.\u001b[39;00m\u001b[38;5;21;01mutils\u001b[39;00m\u001b[38;5;21;01m.\u001b[39;00m\u001b[38;5;21;01m_python_dispatch\u001b[39;00m \u001b[38;5;28;01mimport\u001b[39;00m is_traceable_wrapper_subclass\n\u001b[1;32m---> 63\u001b[0m \u001b[38;5;28;01mfrom\u001b[39;00m \u001b[38;5;21;01mtorch\u001b[39;00m\u001b[38;5;21;01m.\u001b[39;00m\u001b[38;5;21;01mutils\u001b[39;00m\u001b[38;5;21;01m.\u001b[39;00m\u001b[38;5;21;01m_sympy\u001b[39;00m\u001b[38;5;21;01m.\u001b[39;00m\u001b[38;5;21;01mfunctions\u001b[39;00m \u001b[38;5;28;01mimport\u001b[39;00m FloorDiv, Mod, IsNonOverlappingAndDenseIndicator\n\u001b[0;32m     64\u001b[0m \u001b[38;5;28;01mfrom\u001b[39;00m \u001b[38;5;21;01mtorch\u001b[39;00m\u001b[38;5;21;01m.\u001b[39;00m\u001b[38;5;21;01mutils\u001b[39;00m\u001b[38;5;21;01m.\u001b[39;00m\u001b[38;5;21;01m_sympy\u001b[39;00m\u001b[38;5;21;01m.\u001b[39;00m\u001b[38;5;21;01msolve\u001b[39;00m \u001b[38;5;28;01mimport\u001b[39;00m try_solve\n\u001b[0;32m     65\u001b[0m \u001b[38;5;28;01mfrom\u001b[39;00m \u001b[38;5;21;01mtorch\u001b[39;00m\u001b[38;5;21;01m.\u001b[39;00m\u001b[38;5;21;01mutils\u001b[39;00m\u001b[38;5;21;01m.\u001b[39;00m\u001b[38;5;21;01m_sympy\u001b[39;00m\u001b[38;5;21;01m.\u001b[39;00m\u001b[38;5;21;01mvalue_ranges\u001b[39;00m \u001b[38;5;28;01mimport\u001b[39;00m bound_sympy, SymPyValueRangeAnalysis, ValueRanges, ValueRangeError\n",
      "File \u001b[1;32mc:\\Users\\howar\\Anaconda3\\envs\\gpt\\lib\\site-packages\\torch\\utils\\_sympy\\functions.py:1\u001b[0m\n\u001b[1;32m----> 1\u001b[0m \u001b[38;5;28;01mimport\u001b[39;00m \u001b[38;5;21;01msympy\u001b[39;00m\n\u001b[0;32m      2\u001b[0m \u001b[38;5;28;01mfrom\u001b[39;00m \u001b[38;5;21;01msympy\u001b[39;00m \u001b[38;5;28;01mimport\u001b[39;00m S\n\u001b[0;32m      3\u001b[0m \u001b[38;5;28;01mfrom\u001b[39;00m \u001b[38;5;21;01msympy\u001b[39;00m\u001b[38;5;21;01m.\u001b[39;00m\u001b[38;5;21;01mcore\u001b[39;00m\u001b[38;5;21;01m.\u001b[39;00m\u001b[38;5;21;01mlogic\u001b[39;00m \u001b[38;5;28;01mimport\u001b[39;00m fuzzy_and, fuzzy_not, fuzzy_or\n",
      "File \u001b[1;32mc:\\Users\\howar\\Anaconda3\\envs\\gpt\\lib\\site-packages\\sympy\\__init__.py:74\u001b[0m\n\u001b[0;32m     67\u001b[0m \u001b[38;5;28;01mfrom\u001b[39;00m \u001b[38;5;21;01m.\u001b[39;00m\u001b[38;5;21;01mlogic\u001b[39;00m \u001b[38;5;28;01mimport\u001b[39;00m (to_cnf, to_dnf, to_nnf, And, Or, Not, Xor, Nand, Nor,\n\u001b[0;32m     68\u001b[0m         Implies, Equivalent, ITE, POSform, SOPform, simplify_logic, bool_map,\n\u001b[0;32m     69\u001b[0m         true, false, satisfiable)\n\u001b[0;32m     71\u001b[0m \u001b[38;5;28;01mfrom\u001b[39;00m \u001b[38;5;21;01m.\u001b[39;00m\u001b[38;5;21;01massumptions\u001b[39;00m \u001b[38;5;28;01mimport\u001b[39;00m (AppliedPredicate, Predicate, AssumptionsContext,\n\u001b[0;32m     72\u001b[0m         assuming, Q, ask, register_handler, remove_handler, refine)\n\u001b[1;32m---> 74\u001b[0m \u001b[38;5;28;01mfrom\u001b[39;00m \u001b[38;5;21;01m.\u001b[39;00m\u001b[38;5;21;01mpolys\u001b[39;00m \u001b[38;5;28;01mimport\u001b[39;00m (Poly, PurePoly, poly_from_expr, parallel_poly_from_expr,\n\u001b[0;32m     75\u001b[0m         degree, total_degree, degree_list, LC, LM, LT, pdiv, prem, pquo,\n\u001b[0;32m     76\u001b[0m         pexquo, div, rem, quo, exquo, half_gcdex, gcdex, invert,\n\u001b[0;32m     77\u001b[0m         subresultants, resultant, discriminant, cofactors, gcd_list, gcd,\n\u001b[0;32m     78\u001b[0m         lcm_list, lcm, terms_gcd, trunc, monic, content, primitive, compose,\n\u001b[0;32m     79\u001b[0m         decompose, sturm, gff_list, gff, sqf_norm, sqf_part, sqf_list, sqf,\n\u001b[0;32m     80\u001b[0m         factor_list, factor, intervals, refine_root, count_roots, real_roots,\n\u001b[0;32m     81\u001b[0m         nroots, ground_roots, nth_power_roots_poly, cancel, reduced, groebner,\n\u001b[0;32m     82\u001b[0m         is_zero_dimensional, GroebnerBasis, poly, symmetrize, horner,\n\u001b[0;32m     83\u001b[0m         interpolate, rational_interpolate, viete, together,\n\u001b[0;32m     84\u001b[0m         BasePolynomialError, ExactQuotientFailed, PolynomialDivisionFailed,\n\u001b[0;32m     85\u001b[0m         OperationNotSupported, HeuristicGCDFailed, HomomorphismFailed,\n\u001b[0;32m     86\u001b[0m         IsomorphismFailed, ExtraneousFactors, EvaluationFailed,\n\u001b[0;32m     87\u001b[0m         RefinementFailed, CoercionFailed, NotInvertible, NotReversible,\n\u001b[0;32m     88\u001b[0m         NotAlgebraic, DomainError, PolynomialError, UnificationFailed,\n\u001b[0;32m     89\u001b[0m         GeneratorsError, GeneratorsNeeded, ComputationFailed,\n\u001b[0;32m     90\u001b[0m         UnivariatePolynomialError, MultivariatePolynomialError,\n\u001b[0;32m     91\u001b[0m         PolificationFailed, OptionError, FlagError, minpoly,\n\u001b[0;32m     92\u001b[0m         minimal_polynomial, primitive_element, field_isomorphism,\n\u001b[0;32m     93\u001b[0m         to_number_field, isolate, round_two, prime_decomp, prime_valuation,\n\u001b[0;32m     94\u001b[0m         galois_group, itermonomials, Monomial, lex, grlex,\n\u001b[0;32m     95\u001b[0m         grevlex, ilex, igrlex, igrevlex, CRootOf, rootof, RootOf,\n\u001b[0;32m     96\u001b[0m         ComplexRootOf, RootSum, roots, Domain, FiniteField, IntegerRing,\n\u001b[0;32m     97\u001b[0m         RationalField, RealField, ComplexField, PythonFiniteField,\n\u001b[0;32m     98\u001b[0m         GMPYFiniteField, PythonIntegerRing, GMPYIntegerRing, PythonRational,\n\u001b[0;32m     99\u001b[0m         GMPYRationalField, AlgebraicField, PolynomialRing, FractionField,\n\u001b[0;32m    100\u001b[0m         ExpressionDomain, FF_python, FF_gmpy, ZZ_python, ZZ_gmpy, QQ_python,\n\u001b[0;32m    101\u001b[0m         QQ_gmpy, GF, FF, ZZ, QQ, ZZ_I, QQ_I, RR, CC, EX, EXRAW,\n\u001b[0;32m    102\u001b[0m         construct_domain, swinnerton_dyer_poly, cyclotomic_poly,\n\u001b[0;32m    103\u001b[0m         symmetric_poly, random_poly, interpolating_poly, jacobi_poly,\n\u001b[0;32m    104\u001b[0m         chebyshevt_poly, chebyshevu_poly, hermite_poly, hermite_prob_poly,\n\u001b[0;32m    105\u001b[0m         legendre_poly, laguerre_poly, apart, apart_list, assemble_partfrac_list,\n\u001b[0;32m    106\u001b[0m         Options, ring, xring, vring, sring, field, xfield, vfield, sfield)\n\u001b[0;32m    108\u001b[0m \u001b[38;5;28;01mfrom\u001b[39;00m \u001b[38;5;21;01m.\u001b[39;00m\u001b[38;5;21;01mseries\u001b[39;00m \u001b[38;5;28;01mimport\u001b[39;00m (Order, O, limit, Limit, gruntz, series, approximants,\n\u001b[0;32m    109\u001b[0m         residue, EmptySequence, SeqPer, SeqFormula, sequence, SeqAdd, SeqMul,\n\u001b[0;32m    110\u001b[0m         fourier_series, fps, difference_delta, limit_seq)\n\u001b[0;32m    112\u001b[0m \u001b[38;5;28;01mfrom\u001b[39;00m \u001b[38;5;21;01m.\u001b[39;00m\u001b[38;5;21;01mfunctions\u001b[39;00m \u001b[38;5;28;01mimport\u001b[39;00m (factorial, factorial2, rf, ff, binomial,\n\u001b[0;32m    113\u001b[0m         RisingFactorial, FallingFactorial, subfactorial, carmichael,\n\u001b[0;32m    114\u001b[0m         fibonacci, lucas, motzkin, tribonacci, harmonic, bernoulli, bell, euler,\n\u001b[1;32m   (...)\u001b[0m\n\u001b[0;32m    133\u001b[0m         Znm, elliptic_k, elliptic_f, elliptic_e, elliptic_pi, beta, mathieus,\n\u001b[0;32m    134\u001b[0m         mathieuc, mathieusprime, mathieucprime, riemann_xi, betainc, betainc_regularized)\n",
      "File \u001b[1;32mc:\\Users\\howar\\Anaconda3\\envs\\gpt\\lib\\site-packages\\sympy\\polys\\__init__.py:68\u001b[0m\n\u001b[0;32m      1\u001b[0m \u001b[38;5;124;03m\"\"\"Polynomial manipulation algorithms and algebraic objects. \"\"\"\u001b[39;00m\n\u001b[0;32m      3\u001b[0m __all__ \u001b[38;5;241m=\u001b[39m [\n\u001b[0;32m      4\u001b[0m     \u001b[38;5;124m'\u001b[39m\u001b[38;5;124mPoly\u001b[39m\u001b[38;5;124m'\u001b[39m, \u001b[38;5;124m'\u001b[39m\u001b[38;5;124mPurePoly\u001b[39m\u001b[38;5;124m'\u001b[39m, \u001b[38;5;124m'\u001b[39m\u001b[38;5;124mpoly_from_expr\u001b[39m\u001b[38;5;124m'\u001b[39m, \u001b[38;5;124m'\u001b[39m\u001b[38;5;124mparallel_poly_from_expr\u001b[39m\u001b[38;5;124m'\u001b[39m, \u001b[38;5;124m'\u001b[39m\u001b[38;5;124mdegree\u001b[39m\u001b[38;5;124m'\u001b[39m,\n\u001b[0;32m      5\u001b[0m     \u001b[38;5;124m'\u001b[39m\u001b[38;5;124mtotal_degree\u001b[39m\u001b[38;5;124m'\u001b[39m, \u001b[38;5;124m'\u001b[39m\u001b[38;5;124mdegree_list\u001b[39m\u001b[38;5;124m'\u001b[39m, \u001b[38;5;124m'\u001b[39m\u001b[38;5;124mLC\u001b[39m\u001b[38;5;124m'\u001b[39m, \u001b[38;5;124m'\u001b[39m\u001b[38;5;124mLM\u001b[39m\u001b[38;5;124m'\u001b[39m, \u001b[38;5;124m'\u001b[39m\u001b[38;5;124mLT\u001b[39m\u001b[38;5;124m'\u001b[39m, \u001b[38;5;124m'\u001b[39m\u001b[38;5;124mpdiv\u001b[39m\u001b[38;5;124m'\u001b[39m, \u001b[38;5;124m'\u001b[39m\u001b[38;5;124mprem\u001b[39m\u001b[38;5;124m'\u001b[39m, \u001b[38;5;124m'\u001b[39m\u001b[38;5;124mpquo\u001b[39m\u001b[38;5;124m'\u001b[39m,\n\u001b[1;32m   (...)\u001b[0m\n\u001b[0;32m     65\u001b[0m     \u001b[38;5;124m'\u001b[39m\u001b[38;5;124mfield\u001b[39m\u001b[38;5;124m'\u001b[39m, \u001b[38;5;124m'\u001b[39m\u001b[38;5;124mxfield\u001b[39m\u001b[38;5;124m'\u001b[39m, \u001b[38;5;124m'\u001b[39m\u001b[38;5;124mvfield\u001b[39m\u001b[38;5;124m'\u001b[39m, \u001b[38;5;124m'\u001b[39m\u001b[38;5;124msfield\u001b[39m\u001b[38;5;124m'\u001b[39m\n\u001b[0;32m     66\u001b[0m ]\n\u001b[1;32m---> 68\u001b[0m \u001b[38;5;28;01mfrom\u001b[39;00m \u001b[38;5;21;01m.\u001b[39;00m\u001b[38;5;21;01mpolytools\u001b[39;00m \u001b[38;5;28;01mimport\u001b[39;00m (Poly, PurePoly, poly_from_expr,\n\u001b[0;32m     69\u001b[0m         parallel_poly_from_expr, degree, total_degree, degree_list, LC, LM,\n\u001b[0;32m     70\u001b[0m         LT, pdiv, prem, pquo, pexquo, div, rem, quo, exquo, half_gcdex, gcdex,\n\u001b[0;32m     71\u001b[0m         invert, subresultants, resultant, discriminant, cofactors, gcd_list,\n\u001b[0;32m     72\u001b[0m         gcd, lcm_list, lcm, terms_gcd, trunc, monic, content, primitive,\n\u001b[0;32m     73\u001b[0m         compose, decompose, sturm, gff_list, gff, sqf_norm, sqf_part,\n\u001b[0;32m     74\u001b[0m         sqf_list, sqf, factor_list, factor, intervals, refine_root,\n\u001b[0;32m     75\u001b[0m         count_roots, real_roots, nroots, ground_roots, nth_power_roots_poly,\n\u001b[0;32m     76\u001b[0m         cancel, reduced, groebner, is_zero_dimensional, GroebnerBasis, poly)\n\u001b[0;32m     78\u001b[0m \u001b[38;5;28;01mfrom\u001b[39;00m \u001b[38;5;21;01m.\u001b[39;00m\u001b[38;5;21;01mpolyfuncs\u001b[39;00m \u001b[38;5;28;01mimport\u001b[39;00m (symmetrize, horner, interpolate,\n\u001b[0;32m     79\u001b[0m         rational_interpolate, viete)\n\u001b[0;32m     81\u001b[0m \u001b[38;5;28;01mfrom\u001b[39;00m \u001b[38;5;21;01m.\u001b[39;00m\u001b[38;5;21;01mrationaltools\u001b[39;00m \u001b[38;5;28;01mimport\u001b[39;00m together\n",
      "File \u001b[1;32mc:\\Users\\howar\\Anaconda3\\envs\\gpt\\lib\\site-packages\\sympy\\polys\\polytools.py:26\u001b[0m\n\u001b[0;32m     24\u001b[0m \u001b[38;5;28;01mfrom\u001b[39;00m \u001b[38;5;21;01msympy\u001b[39;00m\u001b[38;5;21;01m.\u001b[39;00m\u001b[38;5;21;01mlogic\u001b[39;00m\u001b[38;5;21;01m.\u001b[39;00m\u001b[38;5;21;01mboolalg\u001b[39;00m \u001b[38;5;28;01mimport\u001b[39;00m BooleanAtom\n\u001b[0;32m     25\u001b[0m \u001b[38;5;28;01mfrom\u001b[39;00m \u001b[38;5;21;01msympy\u001b[39;00m\u001b[38;5;21;01m.\u001b[39;00m\u001b[38;5;21;01mpolys\u001b[39;00m \u001b[38;5;28;01mimport\u001b[39;00m polyoptions \u001b[38;5;28;01mas\u001b[39;00m options\n\u001b[1;32m---> 26\u001b[0m \u001b[38;5;28;01mfrom\u001b[39;00m \u001b[38;5;21;01msympy\u001b[39;00m\u001b[38;5;21;01m.\u001b[39;00m\u001b[38;5;21;01mpolys\u001b[39;00m\u001b[38;5;21;01m.\u001b[39;00m\u001b[38;5;21;01mconstructor\u001b[39;00m \u001b[38;5;28;01mimport\u001b[39;00m construct_domain\n\u001b[0;32m     27\u001b[0m \u001b[38;5;28;01mfrom\u001b[39;00m \u001b[38;5;21;01msympy\u001b[39;00m\u001b[38;5;21;01m.\u001b[39;00m\u001b[38;5;21;01mpolys\u001b[39;00m\u001b[38;5;21;01m.\u001b[39;00m\u001b[38;5;21;01mdomains\u001b[39;00m \u001b[38;5;28;01mimport\u001b[39;00m FF, QQ, ZZ\n\u001b[0;32m     28\u001b[0m \u001b[38;5;28;01mfrom\u001b[39;00m \u001b[38;5;21;01msympy\u001b[39;00m\u001b[38;5;21;01m.\u001b[39;00m\u001b[38;5;21;01mpolys\u001b[39;00m\u001b[38;5;21;01m.\u001b[39;00m\u001b[38;5;21;01mdomains\u001b[39;00m\u001b[38;5;21;01m.\u001b[39;00m\u001b[38;5;21;01mdomainelement\u001b[39;00m \u001b[38;5;28;01mimport\u001b[39;00m DomainElement\n",
      "File \u001b[1;32mc:\\Users\\howar\\Anaconda3\\envs\\gpt\\lib\\site-packages\\sympy\\polys\\constructor.py:7\u001b[0m\n\u001b[0;32m      5\u001b[0m \u001b[38;5;28;01mfrom\u001b[39;00m \u001b[38;5;21;01msympy\u001b[39;00m\u001b[38;5;21;01m.\u001b[39;00m\u001b[38;5;21;01mcore\u001b[39;00m\u001b[38;5;21;01m.\u001b[39;00m\u001b[38;5;21;01mevalf\u001b[39;00m \u001b[38;5;28;01mimport\u001b[39;00m pure_complex\n\u001b[0;32m      6\u001b[0m \u001b[38;5;28;01mfrom\u001b[39;00m \u001b[38;5;21;01msympy\u001b[39;00m\u001b[38;5;21;01m.\u001b[39;00m\u001b[38;5;21;01mcore\u001b[39;00m\u001b[38;5;21;01m.\u001b[39;00m\u001b[38;5;21;01msorting\u001b[39;00m \u001b[38;5;28;01mimport\u001b[39;00m ordered\n\u001b[1;32m----> 7\u001b[0m \u001b[38;5;28;01mfrom\u001b[39;00m \u001b[38;5;21;01msympy\u001b[39;00m\u001b[38;5;21;01m.\u001b[39;00m\u001b[38;5;21;01mpolys\u001b[39;00m\u001b[38;5;21;01m.\u001b[39;00m\u001b[38;5;21;01mdomains\u001b[39;00m \u001b[38;5;28;01mimport\u001b[39;00m ZZ, QQ, ZZ_I, QQ_I, EX\n\u001b[0;32m      8\u001b[0m \u001b[38;5;28;01mfrom\u001b[39;00m \u001b[38;5;21;01msympy\u001b[39;00m\u001b[38;5;21;01m.\u001b[39;00m\u001b[38;5;21;01mpolys\u001b[39;00m\u001b[38;5;21;01m.\u001b[39;00m\u001b[38;5;21;01mdomains\u001b[39;00m\u001b[38;5;21;01m.\u001b[39;00m\u001b[38;5;21;01mcomplexfield\u001b[39;00m \u001b[38;5;28;01mimport\u001b[39;00m ComplexField\n\u001b[0;32m      9\u001b[0m \u001b[38;5;28;01mfrom\u001b[39;00m \u001b[38;5;21;01msympy\u001b[39;00m\u001b[38;5;21;01m.\u001b[39;00m\u001b[38;5;21;01mpolys\u001b[39;00m\u001b[38;5;21;01m.\u001b[39;00m\u001b[38;5;21;01mdomains\u001b[39;00m\u001b[38;5;21;01m.\u001b[39;00m\u001b[38;5;21;01mrealfield\u001b[39;00m \u001b[38;5;28;01mimport\u001b[39;00m RealField\n",
      "File \u001b[1;32mc:\\Users\\howar\\Anaconda3\\envs\\gpt\\lib\\site-packages\\sympy\\polys\\domains\\__init__.py:15\u001b[0m\n\u001b[0;32m     13\u001b[0m \u001b[38;5;28;01mfrom\u001b[39;00m \u001b[38;5;21;01m.\u001b[39;00m\u001b[38;5;21;01mintegerring\u001b[39;00m \u001b[38;5;28;01mimport\u001b[39;00m IntegerRing, ZZ\n\u001b[0;32m     14\u001b[0m \u001b[38;5;28;01mfrom\u001b[39;00m \u001b[38;5;21;01m.\u001b[39;00m\u001b[38;5;21;01mrationalfield\u001b[39;00m \u001b[38;5;28;01mimport\u001b[39;00m RationalField, QQ\n\u001b[1;32m---> 15\u001b[0m \u001b[38;5;28;01mfrom\u001b[39;00m \u001b[38;5;21;01m.\u001b[39;00m\u001b[38;5;21;01malgebraicfield\u001b[39;00m \u001b[38;5;28;01mimport\u001b[39;00m AlgebraicField\n\u001b[0;32m     16\u001b[0m \u001b[38;5;28;01mfrom\u001b[39;00m \u001b[38;5;21;01m.\u001b[39;00m\u001b[38;5;21;01mgaussiandomains\u001b[39;00m \u001b[38;5;28;01mimport\u001b[39;00m ZZ_I, QQ_I\n\u001b[0;32m     17\u001b[0m \u001b[38;5;28;01mfrom\u001b[39;00m \u001b[38;5;21;01m.\u001b[39;00m\u001b[38;5;21;01mrealfield\u001b[39;00m \u001b[38;5;28;01mimport\u001b[39;00m RealField, RR\n",
      "File \u001b[1;32mc:\\Users\\howar\\Anaconda3\\envs\\gpt\\lib\\site-packages\\sympy\\polys\\domains\\algebraicfield.py:10\u001b[0m\n\u001b[0;32m      8\u001b[0m \u001b[38;5;28;01mfrom\u001b[39;00m \u001b[38;5;21;01msympy\u001b[39;00m\u001b[38;5;21;01m.\u001b[39;00m\u001b[38;5;21;01mpolys\u001b[39;00m\u001b[38;5;21;01m.\u001b[39;00m\u001b[38;5;21;01mdomains\u001b[39;00m\u001b[38;5;21;01m.\u001b[39;00m\u001b[38;5;21;01mfield\u001b[39;00m \u001b[38;5;28;01mimport\u001b[39;00m Field\n\u001b[0;32m      9\u001b[0m \u001b[38;5;28;01mfrom\u001b[39;00m \u001b[38;5;21;01msympy\u001b[39;00m\u001b[38;5;21;01m.\u001b[39;00m\u001b[38;5;21;01mpolys\u001b[39;00m\u001b[38;5;21;01m.\u001b[39;00m\u001b[38;5;21;01mdomains\u001b[39;00m\u001b[38;5;21;01m.\u001b[39;00m\u001b[38;5;21;01msimpledomain\u001b[39;00m \u001b[38;5;28;01mimport\u001b[39;00m SimpleDomain\n\u001b[1;32m---> 10\u001b[0m \u001b[38;5;28;01mfrom\u001b[39;00m \u001b[38;5;21;01msympy\u001b[39;00m\u001b[38;5;21;01m.\u001b[39;00m\u001b[38;5;21;01mpolys\u001b[39;00m\u001b[38;5;21;01m.\u001b[39;00m\u001b[38;5;21;01mpolyclasses\u001b[39;00m \u001b[38;5;28;01mimport\u001b[39;00m ANP\n\u001b[0;32m     11\u001b[0m \u001b[38;5;28;01mfrom\u001b[39;00m \u001b[38;5;21;01msympy\u001b[39;00m\u001b[38;5;21;01m.\u001b[39;00m\u001b[38;5;21;01mpolys\u001b[39;00m\u001b[38;5;21;01m.\u001b[39;00m\u001b[38;5;21;01mpolyerrors\u001b[39;00m \u001b[38;5;28;01mimport\u001b[39;00m CoercionFailed, DomainError, NotAlgebraic, IsomorphismFailed\n\u001b[0;32m     12\u001b[0m \u001b[38;5;28;01mfrom\u001b[39;00m \u001b[38;5;21;01msympy\u001b[39;00m\u001b[38;5;21;01m.\u001b[39;00m\u001b[38;5;21;01mutilities\u001b[39;00m \u001b[38;5;28;01mimport\u001b[39;00m public\n",
      "File \u001b[1;32mc:\\Users\\howar\\Anaconda3\\envs\\gpt\\lib\\site-packages\\sympy\\polys\\polyclasses.py:86\u001b[0m\n\u001b[0;32m     37\u001b[0m \u001b[38;5;28;01mfrom\u001b[39;00m \u001b[38;5;21;01msympy\u001b[39;00m\u001b[38;5;21;01m.\u001b[39;00m\u001b[38;5;21;01mpolys\u001b[39;00m\u001b[38;5;21;01m.\u001b[39;00m\u001b[38;5;21;01mdensebasic\u001b[39;00m \u001b[38;5;28;01mimport\u001b[39;00m (\n\u001b[0;32m     38\u001b[0m     dmp_validate,\n\u001b[0;32m     39\u001b[0m     dup_normal, dmp_normal,\n\u001b[1;32m   (...)\u001b[0m\n\u001b[0;32m     57\u001b[0m     dmp_slice_in, dmp_permute,\n\u001b[0;32m     58\u001b[0m     dmp_to_tuple,)\n\u001b[0;32m     60\u001b[0m \u001b[38;5;28;01mfrom\u001b[39;00m \u001b[38;5;21;01msympy\u001b[39;00m\u001b[38;5;21;01m.\u001b[39;00m\u001b[38;5;21;01mpolys\u001b[39;00m\u001b[38;5;21;01m.\u001b[39;00m\u001b[38;5;21;01mdensearith\u001b[39;00m \u001b[38;5;28;01mimport\u001b[39;00m (\n\u001b[0;32m     61\u001b[0m     dmp_add_ground,\n\u001b[0;32m     62\u001b[0m     dmp_sub_ground,\n\u001b[1;32m   (...)\u001b[0m\n\u001b[0;32m     83\u001b[0m     dmp_l1_norm,\n\u001b[0;32m     84\u001b[0m     dmp_l2_norm_squared)\n\u001b[1;32m---> 86\u001b[0m \u001b[38;5;28;01mfrom\u001b[39;00m \u001b[38;5;21;01msympy\u001b[39;00m\u001b[38;5;21;01m.\u001b[39;00m\u001b[38;5;21;01mpolys\u001b[39;00m\u001b[38;5;21;01m.\u001b[39;00m\u001b[38;5;21;01mdensetools\u001b[39;00m \u001b[38;5;28;01mimport\u001b[39;00m (\n\u001b[0;32m     87\u001b[0m     dmp_clear_denoms,\n\u001b[0;32m     88\u001b[0m     dmp_integrate_in,\n\u001b[0;32m     89\u001b[0m     dmp_diff_in,\n\u001b[0;32m     90\u001b[0m     dmp_eval_in,\n\u001b[0;32m     91\u001b[0m     dup_revert,\n\u001b[0;32m     92\u001b[0m     dmp_ground_trunc,\n\u001b[0;32m     93\u001b[0m     dmp_ground_content,\n\u001b[0;32m     94\u001b[0m     dmp_ground_primitive,\n\u001b[0;32m     95\u001b[0m     dmp_ground_monic,\n\u001b[0;32m     96\u001b[0m     dmp_compose,\n\u001b[0;32m     97\u001b[0m     dup_decompose,\n\u001b[0;32m     98\u001b[0m     dup_shift,\n\u001b[0;32m     99\u001b[0m     dup_transform,\n\u001b[0;32m    100\u001b[0m     dmp_lift)\n\u001b[0;32m    102\u001b[0m \u001b[38;5;28;01mfrom\u001b[39;00m \u001b[38;5;21;01msympy\u001b[39;00m\u001b[38;5;21;01m.\u001b[39;00m\u001b[38;5;21;01mpolys\u001b[39;00m\u001b[38;5;21;01m.\u001b[39;00m\u001b[38;5;21;01meuclidtools\u001b[39;00m \u001b[38;5;28;01mimport\u001b[39;00m (\n\u001b[0;32m    103\u001b[0m     dup_half_gcdex, dup_gcdex, dup_invert,\n\u001b[0;32m    104\u001b[0m     dmp_subresultants,\n\u001b[1;32m   (...)\u001b[0m\n\u001b[0;32m    109\u001b[0m     dmp_lcm,\n\u001b[0;32m    110\u001b[0m     dmp_cancel)\n\u001b[0;32m    112\u001b[0m \u001b[38;5;28;01mfrom\u001b[39;00m \u001b[38;5;21;01msympy\u001b[39;00m\u001b[38;5;21;01m.\u001b[39;00m\u001b[38;5;21;01mpolys\u001b[39;00m\u001b[38;5;21;01m.\u001b[39;00m\u001b[38;5;21;01msqfreetools\u001b[39;00m \u001b[38;5;28;01mimport\u001b[39;00m (\n\u001b[0;32m    113\u001b[0m     dup_gff_list,\n\u001b[0;32m    114\u001b[0m     dmp_norm,\n\u001b[1;32m   (...)\u001b[0m\n\u001b[0;32m    117\u001b[0m     dmp_sqf_part,\n\u001b[0;32m    118\u001b[0m     dmp_sqf_list, dmp_sqf_list_include)\n",
      "File \u001b[1;32m<frozen importlib._bootstrap>:1007\u001b[0m, in \u001b[0;36m_find_and_load\u001b[1;34m(name, import_)\u001b[0m\n",
      "File \u001b[1;32m<frozen importlib._bootstrap>:982\u001b[0m, in \u001b[0;36m_find_and_load_unlocked\u001b[1;34m(name, import_)\u001b[0m\n",
      "File \u001b[1;32m<frozen importlib._bootstrap>:925\u001b[0m, in \u001b[0;36m_find_spec\u001b[1;34m(name, path, target)\u001b[0m\n",
      "File \u001b[1;32m<frozen importlib._bootstrap_external>:1423\u001b[0m, in \u001b[0;36mfind_spec\u001b[1;34m(cls, fullname, path, target)\u001b[0m\n",
      "File \u001b[1;32m<frozen importlib._bootstrap_external>:1395\u001b[0m, in \u001b[0;36m_get_spec\u001b[1;34m(cls, fullname, path, target)\u001b[0m\n",
      "File \u001b[1;32m<frozen importlib._bootstrap_external>:1555\u001b[0m, in \u001b[0;36mfind_spec\u001b[1;34m(self, fullname, target)\u001b[0m\n",
      "File \u001b[1;32m<frozen importlib._bootstrap_external>:156\u001b[0m, in \u001b[0;36m_path_isfile\u001b[1;34m(path)\u001b[0m\n",
      "File \u001b[1;32m<frozen importlib._bootstrap_external>:148\u001b[0m, in \u001b[0;36m_path_is_mode_type\u001b[1;34m(path, mode)\u001b[0m\n",
      "File \u001b[1;32m<frozen importlib._bootstrap_external>:142\u001b[0m, in \u001b[0;36m_path_stat\u001b[1;34m(path)\u001b[0m\n",
      "\u001b[1;31mKeyboardInterrupt\u001b[0m: "
     ]
    }
   ],
   "source": [
    "from transformers import BertTokenizer, BertForMaskedLM, Trainer, TrainingArguments, DataCollatorForLanguageModeling\n",
    "from datasets import load_dataset\n",
    "\n",
    "# Load pretrained model and tokenizer\n",
    "model_name = 'bert-base-uncased'\n",
    "tokenizer = BertTokenizer.from_pretrained(model_name)\n",
    "model = BertForMaskedLM.from_pretrained(model_name)\n",
    "\n",
    "# Function to load dataset\n",
    "def load_text_dataset(file_path):\n",
    "    return load_dataset('text', data_files={'train': file_path})['train']\n",
    "\n",
    "# Function to tokenize dataset\n",
    "def encode(examples):\n",
    "    return tokenizer(examples['text'], truncation=True, padding='max_length', max_length=128, return_special_tokens_mask=True)\n",
    "\n",
    "# Training arguments\n",
    "training_args = TrainingArguments(\n",
    "    output_dir='./results',\n",
    "    overwrite_output_dir=True,\n",
    "    num_train_epochs=3,\n",
    "    per_device_train_batch_size=8,\n",
    "    save_steps=10_000,\n",
    "    save_total_limit=2,\n",
    ")\n",
    "\n",
    "# Pretrain model for each cluster\n",
    "for cluster in clustered_datasets.keys():\n",
    "    data_file = os.path.join(output_dir, f\"{cluster}.txt\")\n",
    "    dataset = load_text_dataset(data_file)\n",
    "    tokenized_dataset = dataset.map(encode, batched=True)\n",
    "    \n",
    "    data_collator = DataCollatorForLanguageModeling(\n",
    "        tokenizer=tokenizer,\n",
    "        mlm=True,\n",
    "        mlm_probability=0.15\n",
    "    )\n",
    "    \n",
    "    trainer = Trainer(\n",
    "        model=model,\n",
    "        args=training_args,\n",
    "        data_collator=data_collator,\n",
    "        train_dataset=tokenized_dataset\n",
    "    )\n",
    "    \n",
    "    print(f'Training model for {cluster}')\n",
    "    trainer.train()\n",
    "    \n",
    "    # Save the pretrained model\n",
    "    model.save_pretrained(f'./{cluster}_bert_model')\n",
    "    tokenizer.save_pretrained(f'./{cluster}_bert_model')\n"
   ]
  },
  {
   "cell_type": "markdown",
   "metadata": {},
   "source": [
    "### GPT4"
   ]
  },
  {
   "cell_type": "code",
   "execution_count": 24,
   "metadata": {},
   "outputs": [
    {
     "data": {
      "image/png": "[encoded data removed]",
      "text/plain": [
       "<Figure size 640x480 with 1 Axes>"
      ]
     },
     "metadata": {},
     "output_type": "display_data"
    }
   ],
   "source": [
    "import matplotlib.pyplot as plt\n",
    "import seaborn as sns\n",
    "\n",
    "# 绘制条形图\n",
    "sns.countplot(x='Cluster', data=data)\n",
    "plt.title('Distribution of Clusters')\n",
    "plt.xlabel('Cluster')\n",
    "plt.ylabel('Count')\n",
    "plt.show()\n"
   ]
  },
  {
   "cell_type": "code",
   "execution_count": 25,
   "metadata": {},
   "outputs": [],
   "source": [
    "import os\n",
    "import json\n",
    "import pandas as pd\n",
    "from sklearn.model_selection import train_test_split\n",
    "\n",
    "# 假设 data 是你的Pandas DataFrame\n",
    "output_dir_train = 'Data/train'\n",
    "output_dir_test = 'Data/test'\n",
    "\n",
    "if not os.path.exists(output_dir_train):\n",
    "    os.makedirs(output_dir_train)\n",
    "\n",
    "if not os.path.exists(output_dir_test):\n",
    "    os.makedirs(output_dir_test)"
   ]
  },
  {
   "cell_type": "code",
   "execution_count": 26,
   "metadata": {},
   "outputs": [],
   "source": [
    "DEFAULT_SYSTEM_PROMPT = \"You are a psychologist. Your role is to help understand and discuss the mental and emotional state of the patients based on the information provided. Use the details shared about the patient’s background, symptoms, and behaviors to provide insights into their psychological condition and suggest coping strategies where appropriate.\""
   ]
  },
  {
   "cell_type": "code",
   "execution_count": 27,
   "metadata": {},
   "outputs": [
    {
     "name": "stdout",
     "output_type": "stream",
     "text": [
      "Saved Data/train\\Cluster_0.jsonl\n",
      "Saved Data/train\\Cluster_1.jsonl\n",
      "Saved Data/train\\Cluster_2.jsonl\n",
      "Saved Data/train\\Cluster_3.jsonl\n",
      "Saved Data/train\\Cluster_4.jsonl\n",
      "Saved Data/train\\Cluster_5.jsonl\n",
      "Saved Data/train\\Cluster_6.jsonl\n",
      "Saved Data/test\\Cluster_0.jsonl\n",
      "Saved Data/test\\Cluster_1.jsonl\n",
      "Saved Data/test\\Cluster_2.jsonl\n",
      "Saved Data/test\\Cluster_3.jsonl\n",
      "Saved Data/test\\Cluster_4.jsonl\n",
      "Saved Data/test\\Cluster_5.jsonl\n",
      "Saved Data/test\\Cluster_6.jsonl\n"
     ]
    }
   ],
   "source": [
    "#condition?\n",
    "import os\n",
    "import pandas as pd\n",
    "import json\n",
    "\n",
    "# Create directory for clusters\n",
    "output_dir = 'Data/clusters_jsonl'\n",
    "os.makedirs(output_dir, exist_ok=True)\n",
    "\n",
    "def convert_to_prompt(row):\n",
    "    # Age\n",
    "    age = f\"Age: {18 + int(row['D1']) - 1} years old\" if not pd.isna(row['D1']) else \"Age: unknown\"\n",
    "    \n",
    "    # Sex\n",
    "    sex = \"Sex: Male\" if row['D2'] == 1 else \"Sex: Female\" if row['D2'] == 2 else \"Sex: unknown\"\n",
    "    \n",
    "    # Race\n",
    "    race_options = [\n",
    "        \"White\", \"Black or African American\", \"Asian\", \n",
    "        \"Native American or American Indian\", \"Native Hawaiian or Pacific Islander\", \n",
    "        \"Multiracial or biracial\", \"Other\", \"Prefer not to say\"\n",
    "    ]\n",
    "    race = f\"Race: {race_options[int(row['D3']) - 1]}\" if not pd.isna(row['D3']) else \"Race: unknown\"\n",
    "    \n",
    "    # Education\n",
    "    education_options = [\n",
    "        \"8th grade or less\", \"Attended high school\", \"High school graduate\", \n",
    "        \"Some college\", \"College graduate\", \"Some graduate school\", \n",
    "        \"Graduate/professional degree\", \"Prefer not to say\"\n",
    "    ]\n",
    "    education = f\"Education: {education_options[int(row['D4']) - 1]}\" if not pd.isna(row['D4']) else \"Education: unknown\"\n",
    "    \n",
    "    # Income\n",
    "    income_options = [\n",
    "        \"Less than $20,000\", \"$20,000 - $34,999\", \"$35,000 - $54,999\", \n",
    "        \"$55,000 - $74,999\", \"$75,000 - $89,999\", \"$90,000 or more\", \n",
    "        \"Do not know / not sure\", \"Prefer not to say\"\n",
    "    ]\n",
    "    income = f\"Income: {income_options[int(row['D5']) - 1]}\" if not pd.isna(row['D5']) else \"Income: unknown\"\n",
    "    \n",
    "    # Language\n",
    "    english_first_lang = \"Is English your first language: Yes\" if row['D6'] == 1 else \\\n",
    "                         \"Is English your first language: No\" if row['D6'] == 2 else \\\n",
    "                         \"Is English your first language: unknown\"\n",
    "    \n",
    "    # Physical measurements\n",
    "    height = f\"Height: {row['Dmed_7']} feet\" if not pd.isna(row['Dmed_7']) else \"Height: unknown\"\n",
    "    weight = f\"Weight: {row['Dmed_8']} pounds\" if not pd.isna(row['Dmed_8']) else \"Weight: unknown\"\n",
    "    \n",
    "    # Health behavior\n",
    "    prescription_drugs = f\"Prescription drugs: {row['DMed_1']}\" if not pd.isna(row['DMed_1']) else \"Prescription drugs: unknown\"\n",
    "    primary_care_physician = \"Primary care physician: Yes\" if row['DMed_2'] == 1 else \\\n",
    "                             \"Primary care physician: No\" if row['DMed_2'] == 2 else \\\n",
    "                             \"Primary care physician: unknown\"\n",
    "    visits_to_physician = f\"Visits to primary care physician in the past two years: {row['DMed_3']}\" if not pd.isna(row['DMed_3']) else \"Visits to primary care physician: unknown\"\n",
    "    exercise_hours = f\"Exercise hours per week: {row['DMed_9']}\" if not pd.isna(row['DMed_9']) else \"Exercise hours per week: unknown\"\n",
    "    eating_habits = f\"Eating habits self-rating on 1-10 scale: {row['Dmed_10']}\" if not pd.isna(row['Dmed_10']) else \"Eating habits: unknown\"\n",
    "    smoking_occasions = f\"Smoking occasions in the past 30 days: {row['Dmed_5']}\" if not pd.isna(row['Dmed_5']) else \"Smoking occasions: unknown\"\n",
    "    alcoholic_drinks = f\"Alcoholic drinks per week: {row['Dmed_6']}\" if not pd.isna(row['Dmed_6']) else \"Alcoholic drinks per week: unknown\"\n",
    "    \n",
    "    # Psychological and additional health traits\n",
    "    psychological_traits = \"\"  # Example placeholder\n",
    "    \n",
    "    # Combine all into one prompt\n",
    "    prompt = (\n",
    "        f\"Demographics: {age}, {sex}, {race}, {education}, {income}. \"\n",
    "        f\"Behaviors: {english_first_lang}, {height}, {weight}, {exercise_hours}, {smoking_occasions}, {alcoholic_drinks}. \"\n",
    "        f\"Healthcare: {prescription_drugs}, {primary_care_physician}, {visits_to_physician}, {eating_habits}. \"\n",
    "        f\"Additional Psychological Traits: {psychological_traits}.\"\n",
    "    )\n",
    "    \n",
    "    return prompt\n",
    "\n",
    "\n",
    "\n",
    "\n",
    "\n",
    "# 分割数据集为7个子数据集并进行训练/测试分割\n",
    "clustered_datasets = {}\n",
    "train_datasets = {}\n",
    "test_datasets = {}\n",
    "\n",
    "for i in range(7):  \n",
    "    cluster_data = data[data['Cluster'] == i]\n",
    "    train_data, test_data = train_test_split(cluster_data, test_size=0.2, random_state=42)  # 20% 数据作为测试集\n",
    "    train_datasets[f'Cluster_{i}'] = train_data\n",
    "    test_datasets[f'Cluster_{i}'] = test_data\n",
    "\n",
    "\n",
    "def convert_to_jsonl_format(clustered_datasets, output_dir):\n",
    "    for cluster, dataset in clustered_datasets.items():\n",
    "        # Fill missing values\n",
    "        dataset = dataset.fillna({\n",
    "            'D1': 0, 'D2': 0, 'D3': 0, 'D4': 0, 'D5': 0, 'D6': 0, 'Dmed_7': 0, 'Dmed_8': 0,\n",
    "            'DMed_1': 0, 'DMed_2': 0, 'DMed_3': 0, 'DMed_9': 0, 'Dmed_10': \"unknown\", 'Dmed_5': 0, 'Dmed_6': 0,\n",
    "            'Text_SubjectiveLit': 'unknown', 'Text_TrustPhys': 'unknown', 'Text_Anxiety': 'unknown', 'Text_Numeracy': 'unknown'\n",
    "        })\n",
    "        \n",
    "        jsonl_data = []\n",
    "        for index, row in dataset.iterrows():\n",
    "            question = convert_to_prompt(row)\n",
    "            # Combining the responses into the completion field\n",
    "            answer = f\"Subjective Literacy: {row['Text_SubjectiveLit']} | \" \\\n",
    "                         f\"Trust in Physician: {row['Text_TrustPhys']} | \" \\\n",
    "                         f\"Anxiety: {row['Text_Anxiety']} | \" \\\n",
    "                         f\"Numeracy: {row['Text_Numeracy']}\"\n",
    "            jsonl_data.append({\n",
    "                \"messages\": [\n",
    "                    {\"role\": \"system\", \"content\": DEFAULT_SYSTEM_PROMPT},\n",
    "                    {\"role\": \"user\", \"content\": question},\n",
    "                    {\"role\": \"assistant\", \"content\": answer},\n",
    "                ]\n",
    "                })\n",
    "                \n",
    "        # Saving the jsonl files\n",
    "        filename = os.path.join(output_dir, f\"{cluster}.jsonl\")\n",
    "        with open(filename, 'w') as f:\n",
    "            for entry in jsonl_data:\n",
    "                f.write(json.dumps(entry) + \"\\n\")\n",
    "        print(f\"Saved {filename}\")\n",
    "\n",
    "\n",
    "# 转换训练数据和测试数据为JSON格式并保存\n",
    "convert_to_jsonl_format(train_datasets, output_dir_train)\n",
    "convert_to_jsonl_format(test_datasets, output_dir_test)\n"
   ]
  },
  {
   "cell_type": "code",
   "execution_count": 28,
   "metadata": {},
   "outputs": [],
   "source": [
    "import json\n",
    "import tiktoken # for token counting\n",
    "import numpy as np\n",
    "from collections import defaultdict"
   ]
  },
  {
   "cell_type": "code",
   "execution_count": 29,
   "metadata": {},
   "outputs": [
    {
     "name": "stdout",
     "output_type": "stream",
     "text": [
      "Num examples: 608\n",
      "First example:\n",
      "{'role': 'system', 'content': 'You are a psychologist. Your role is to help understand and discuss the mental and emotional state of the patients based on the information provided. Use the details shared about the patient’s background, symptoms, and behaviors to provide insights into their psychological condition and suggest coping strategies where appropriate.'}\n",
      "{'role': 'user', 'content': 'Demographics: Age: 49 years old, Sex: Female, Race: White, Education: Some college, Income: Less than $20,000. Behaviors: Is English your first language: Yes, Height: 27.0 feet, Weight: 150 pounds, Exercise hours per week: 1.0, Smoking occasions in the past 30 days: 7.0, Alcoholic drinks per week: 1.0. Healthcare: Prescription drugs: 5.0, Primary care physician: Yes, Visits to primary care physician in the past two years: 6.0, Eating habits self-rating on 1-10 scale: 3.0. Additional Psychological Traits: .'}\n",
      "{'role': 'assistant', 'content': 'Subjective Literacy: I do not have a problem when I do I ask,I always make sure I understandand I keep asking the same question over and over | Trust in Physician: I do trust my doctor and they do get second opinions about my healthif not more opinionsand more tests  | Anxiety: Its just the waiting time,bored earsdroppingand have to say what other people sayi listen to what other problems other people have | Numeracy: I always tell the the doctor mostly everything I try to get better but things happenall the time and the trauma is serious'}\n"
     ]
    }
   ],
   "source": [
    "#modify\n",
    "data_path = \"Data/train\\Cluster_0.jsonl\"\n",
    "\n",
    "# Load the dataset\n",
    "with open(data_path, 'r', encoding='utf-8') as f:\n",
    "    dataset = [json.loads(line) for line in f]\n",
    "\n",
    "# Initial dataset stats\n",
    "print(\"Num examples:\", len(dataset))\n",
    "print(\"First example:\")\n",
    "for message in dataset[0][\"messages\"]:\n",
    "    print(message)"
   ]
  },
  {
   "cell_type": "code",
   "execution_count": 30,
   "metadata": {},
   "outputs": [
    {
     "name": "stdout",
     "output_type": "stream",
     "text": [
      "No errors found\n"
     ]
    }
   ],
   "source": [
    "# Format error checks\n",
    "format_errors = defaultdict(int)\n",
    "\n",
    "for ex in dataset:\n",
    "    if not isinstance(ex, dict):\n",
    "        format_errors[\"data_type\"] += 1\n",
    "        continue\n",
    "        \n",
    "    messages = ex.get(\"messages\", None)\n",
    "    if not messages:\n",
    "        format_errors[\"missing_messages_list\"] += 1\n",
    "        continue\n",
    "        \n",
    "    for message in messages:\n",
    "        if \"role\" not in message or \"content\" not in message:\n",
    "            format_errors[\"message_missing_key\"] += 1\n",
    "        \n",
    "        if any(k not in (\"role\", \"content\", \"name\", \"function_call\", \"weight\") for k in message):\n",
    "            format_errors[\"message_unrecognized_key\"] += 1\n",
    "        \n",
    "        if message.get(\"role\", None) not in (\"system\", \"user\", \"assistant\", \"function\"):\n",
    "            format_errors[\"unrecognized_role\"] += 1\n",
    "            \n",
    "        content = message.get(\"content\", None)\n",
    "        function_call = message.get(\"function_call\", None)\n",
    "        \n",
    "        if (not content and not function_call) or not isinstance(content, str):\n",
    "            format_errors[\"missing_content\"] += 1\n",
    "    \n",
    "    if not any(message.get(\"role\", None) == \"assistant\" for message in messages):\n",
    "        format_errors[\"example_missing_assistant_message\"] += 1\n",
    "\n",
    "if format_errors:\n",
    "    print(\"Found errors:\")\n",
    "    for k, v in format_errors.items():\n",
    "        print(f\"{k}: {v}\")\n",
    "else:\n",
    "    print(\"No errors found\")"
   ]
  },
  {
   "cell_type": "code",
   "execution_count": 10,
   "metadata": {},
   "outputs": [],
   "source": [
    "from openai import OpenAI\n",
    "client = OpenAI()\n",
    "\n",
    "response = client.chat.completions.create(\n",
    "  model=\"ft:gpt-3.5-turbo-1106:personal::9YlX38Mw\",\n",
    "  messages=[{\"role\": \"system\", \"content\": \"You should simulate a specified person's persona based on the background information I provided. You are currently visiting a psychologist.\"}, {\"role\": \"user\", \"content\": \"In a few sentences, please describe an experience in your life that demonstrated your knowledge of health or medical issues. Below is your information: Demographics: Age: 49 years old, Sex: Female, Race: White, Education: High school graduate, Income: $75,000 - $89,999. Behaviors: Is English your first language: Yes, Height: 29.0 feet, Weight: 190 pounds, Exercise hours per week: 3.0, Smoking occasions in the past 30 days: 3.0, Alcoholic drinks per week: 22.0. Healthcare: Prescription drugs: 4.0, Primary care physician: Yes, Visits to primary care physician in the past two years: 7.0, Eating habits self-rating on 1-10 scale: 7.0. Additional Psychological Traits: .\"}],\n",
    "  temperature=1,\n",
    "  max_tokens=256,\n",
    "  top_p=1,\n",
    "  frequency_penalty=0,\n",
    "  presence_penalty=0\n",
    ")"
   ]
  },
  {
   "cell_type": "code",
   "execution_count": 11,
   "metadata": {},
   "outputs": [
    {
     "data": {
      "text/plain": [
       "ChatCompletion(id='chatcmpl-9ZkMWiieTTTwLuCXv1RV28uY3QLR1', choices=[Choice(finish_reason='stop', index=0, logprobs=None, message=ChatCompletionMessage(content='I have a lot of heath situations.  Trying to keep everything straight with the different doctors is very hard.  Sometimes I forget what certain medicines are for which means I do a lot of internet searches about my health and questions to ask.  I have COPD and all the problems comes with smoking.  I do smoke so I know I should stop to help my lungs.  It is very hard though.  I understand the risks to my health.  I understand a little about coding so that helps in trying to understand my doctors.  They do sometimes explain things though most of what I understand when I leave 90 \\\\% of my doctors apt. is because I asked something on the internet.', role='assistant', function_call=None, tool_calls=None))], created=1718306724, model='ft:gpt-3.5-turbo-1106:personal::9YlX38Mw', object='chat.completion', system_fingerprint=None, usage=CompletionUsage(completion_tokens=142, prompt_tokens=211, total_tokens=353))"
      ]
     },
     "execution_count": 11,
     "metadata": {},
     "output_type": "execute_result"
    }
   ],
   "source": [
    "response"
   ]
  },
  {
   "cell_type": "code",
   "execution_count": 12,
   "metadata": {},
   "outputs": [
    {
     "name": "stdout",
     "output_type": "stream",
     "text": [
      "I have a lot of heath situations.  Trying to keep everything straight with the different doctors is very hard.  Sometimes I forget what certain medicines are for which means I do a lot of internet searches about my health and questions to ask.  I have COPD and all the problems comes with smoking.  I do smoke so I know I should stop to help my lungs.  It is very hard though.  I understand the risks to my health.  I understand a little about coding so that helps in trying to understand my doctors.  They do sometimes explain things though most of what I understand when I leave 90 \\% of my doctors apt. is because I asked something on the internet.\n"
     ]
    }
   ],
   "source": [
    "# 提取并打印响应文本\n",
    "text_response = response.choices[0].message.content  # 使用属性访问方式获取文本内容\n",
    "print(text_response)"
   ]
  }
 ],
 "metadata": {
  "kernelspec": {
   "display_name": "gpt",
   "language": "python",
   "name": "python3"
  },
  "language_info": {
   "codemirror_mode": {
    "name": "ipython",
    "version": 3
   },
   "file_extension": ".py",
   "mimetype": "text/x-python",
   "name": "python",
   "nbconvert_exporter": "python",
   "pygments_lexer": "ipython3",
   "version": "3.9.19"
  }
 },
 "nbformat": 4,
 "nbformat_minor": 2
}
